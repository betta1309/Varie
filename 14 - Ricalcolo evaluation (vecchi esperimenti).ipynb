{
 "cells": [
  {
   "cell_type": "code",
   "execution_count": 1,
   "id": "1d8689e0",
   "metadata": {},
   "outputs": [],
   "source": [
    "from sklearn.metrics import classification_report, confusion_matrix, ConfusionMatrixDisplay\n",
    "import pandas as pd\n",
    "import matplotlib.pyplot as plt"
   ]
  },
  {
   "cell_type": "markdown",
   "id": "c41f7c33",
   "metadata": {},
   "source": [
    "# ose_bert_classification (f1 0,68)"
   ]
  },
  {
   "cell_type": "code",
   "execution_count": 3,
   "id": "e4334a90",
   "metadata": {},
   "outputs": [],
   "source": [
    "filepath = r'C:\\Users\\betti\\Notebooks\\Tesi\\baseline\\vecchi\\varie\\ose_bert_classification_features.csv'\n",
    "with open(filepath, 'r', encoding='utf-8') as file:\n",
    "    results = pd.read_csv(file)"
   ]
  },
  {
   "cell_type": "code",
   "execution_count": 4,
   "id": "91ec19cd",
   "metadata": {},
   "outputs": [
    {
     "data": {
      "text/html": [
       "<div>\n",
       "<style scoped>\n",
       "    .dataframe tbody tr th:only-of-type {\n",
       "        vertical-align: middle;\n",
       "    }\n",
       "\n",
       "    .dataframe tbody tr th {\n",
       "        vertical-align: top;\n",
       "    }\n",
       "\n",
       "    .dataframe thead th {\n",
       "        text-align: right;\n",
       "    }\n",
       "</style>\n",
       "<table border=\"1\" class=\"dataframe\">\n",
       "  <thead>\n",
       "    <tr style=\"text-align: right;\">\n",
       "      <th></th>\n",
       "      <th>filename</th>\n",
       "      <th>slug</th>\n",
       "      <th>grade_level</th>\n",
       "      <th>Original_Index</th>\n",
       "      <th>ose_bert_classification</th>\n",
       "    </tr>\n",
       "  </thead>\n",
       "  <tbody>\n",
       "    <tr>\n",
       "      <th>0</th>\n",
       "      <td>5993-adv.txt</td>\n",
       "      <td>5993</td>\n",
       "      <td>1</td>\n",
       "      <td>11986</td>\n",
       "      <td>1.0</td>\n",
       "    </tr>\n",
       "    <tr>\n",
       "      <th>1</th>\n",
       "      <td>5992-adv.txt</td>\n",
       "      <td>5992</td>\n",
       "      <td>1</td>\n",
       "      <td>11984</td>\n",
       "      <td>1.0</td>\n",
       "    </tr>\n",
       "    <tr>\n",
       "      <th>2</th>\n",
       "      <td>5991-adv.txt</td>\n",
       "      <td>5991</td>\n",
       "      <td>1</td>\n",
       "      <td>11982</td>\n",
       "      <td>1.0</td>\n",
       "    </tr>\n",
       "    <tr>\n",
       "      <th>3</th>\n",
       "      <td>5990-adv.txt</td>\n",
       "      <td>5990</td>\n",
       "      <td>1</td>\n",
       "      <td>11980</td>\n",
       "      <td>1.0</td>\n",
       "    </tr>\n",
       "    <tr>\n",
       "      <th>4</th>\n",
       "      <td>5989-adv.txt</td>\n",
       "      <td>5989</td>\n",
       "      <td>1</td>\n",
       "      <td>11978</td>\n",
       "      <td>1.0</td>\n",
       "    </tr>\n",
       "  </tbody>\n",
       "</table>\n",
       "</div>"
      ],
      "text/plain": [
       "       filename  slug  grade_level  Original_Index  ose_bert_classification\n",
       "0  5993-adv.txt  5993            1           11986                      1.0\n",
       "1  5992-adv.txt  5992            1           11984                      1.0\n",
       "2  5991-adv.txt  5991            1           11982                      1.0\n",
       "3  5990-adv.txt  5990            1           11980                      1.0\n",
       "4  5989-adv.txt  5989            1           11978                      1.0"
      ]
     },
     "execution_count": 4,
     "metadata": {},
     "output_type": "execute_result"
    }
   ],
   "source": [
    "results.head()"
   ]
  },
  {
   "cell_type": "code",
   "execution_count": 6,
   "id": "52df6c1b",
   "metadata": {},
   "outputs": [
    {
     "data": {
      "text/plain": [
       "Index(['filename', 'slug', 'grade_level', 'Original_Index',\n",
       "       'ose_bert_classification'],\n",
       "      dtype='object')"
      ]
     },
     "execution_count": 6,
     "metadata": {},
     "output_type": "execute_result"
    }
   ],
   "source": [
    "results.columns"
   ]
  },
  {
   "cell_type": "code",
   "execution_count": 7,
   "id": "0ef00b9d",
   "metadata": {},
   "outputs": [],
   "source": [
    "y_true = results['grade_level'].tolist()"
   ]
  },
  {
   "cell_type": "code",
   "execution_count": 8,
   "id": "894b4167",
   "metadata": {},
   "outputs": [],
   "source": [
    "tests = ['ose_bert_classification']"
   ]
  },
  {
   "cell_type": "code",
   "execution_count": 10,
   "id": "280b0afc",
   "metadata": {},
   "outputs": [],
   "source": [
    "#diz = classification_report(y_true, results['ose_full_all'], output_dict=True)"
   ]
  },
  {
   "cell_type": "code",
   "execution_count": 9,
   "id": "9bf4fe57",
   "metadata": {
    "scrolled": false
   },
   "outputs": [
    {
     "name": "stdout",
     "output_type": "stream",
     "text": [
      "Risultati di ose_bert_classification\n",
      "              precision    recall  f1-score   support\n",
      "\n",
      "           0       0.69      0.65      0.67      5994\n",
      "           1       0.67      0.71      0.69      5994\n",
      "\n",
      "    accuracy                           0.68     11988\n",
      "   macro avg       0.68      0.68      0.68     11988\n",
      "weighted avg       0.68      0.68      0.68     11988\n",
      "\n"
     ]
    },
    {
     "data": {
      "image/png": "[encoded data removed]",
      "text/plain": [
       "<Figure size 432x288 with 2 Axes>"
      ]
     },
     "metadata": {
      "needs_background": "light"
     },
     "output_type": "display_data"
    }
   ],
   "source": [
    "for test in tests:\n",
    "    y_pred = results[test].tolist()\n",
    "    print(\"Risultati di\", test)\n",
    "    # report\n",
    "    print(classification_report(y_true, y_pred))\n",
    "    # confusion matrix\n",
    "    matrix = confusion_matrix(y_true, y_pred)\n",
    "    disp = ConfusionMatrixDisplay(confusion_matrix=matrix)\n",
    "    disp.plot()\n",
    "    plt.show()"
   ]
  },
  {
   "cell_type": "code",
   "execution_count": 10,
   "id": "532e933a",
   "metadata": {},
   "outputs": [],
   "source": [
    "# per avere i risultati in dizionario (magari se devo scrivere una nostra funzione di evaluation)\n",
    "#classification_report(y_true, y_pred, output_dict=True)"
   ]
  },
  {
   "cell_type": "code",
   "execution_count": 10,
   "id": "ca90af7b",
   "metadata": {},
   "outputs": [
    {
     "data": {
      "text/plain": [
       "{'0': {'precision': 0.6888018515221649,\n",
       "  'recall': 0.6454788121454789,\n",
       "  'f1-score': 0.6664369993971234,\n",
       "  'support': 5994},\n",
       " '1': {'precision': 0.6664573850258986,\n",
       "  'recall': 0.7083750417083751,\n",
       "  'f1-score': 0.6867771936918722,\n",
       "  'support': 5994},\n",
       " 'accuracy': 0.6769269269269269,\n",
       " 'macro avg': {'precision': 0.6776296182740318,\n",
       "  'recall': 0.6769269269269269,\n",
       "  'f1-score': 0.6766070965444978,\n",
       "  'support': 11988},\n",
       " 'weighted avg': {'precision': 0.6776296182740318,\n",
       "  'recall': 0.6769269269269269,\n",
       "  'f1-score': 0.6766070965444978,\n",
       "  'support': 11988}}"
      ]
     },
     "execution_count": 10,
     "metadata": {},
     "output_type": "execute_result"
    }
   ],
   "source": [
    "classification_report(y_true, results['ose_bert_classification'], output_dict=True)"
   ]
  },
  {
   "cell_type": "code",
   "execution_count": null,
   "id": "f7f140f1",
   "metadata": {},
   "outputs": [],
   "source": []
  },
  {
   "cell_type": "markdown",
   "id": "b2c7e1b0",
   "metadata": {},
   "source": [
    "# ose_full (f1 0,341)"
   ]
  },
  {
   "cell_type": "code",
   "execution_count": 13,
   "id": "3b8fe1b4",
   "metadata": {},
   "outputs": [],
   "source": [
    "filepath = r'C:\\Users\\betti\\Notebooks\\Tesi\\baseline\\vecchi\\training su ose e 26 luglio\\adminit-ose_full_mbert_class.csv'\n",
    "with open(filepath, 'r', encoding='utf-8') as file:\n",
    "    results = pd.read_csv(file)"
   ]
  },
  {
   "cell_type": "code",
   "execution_count": 14,
   "id": "fed34dde",
   "metadata": {},
   "outputs": [
    {
     "data": {
      "text/html": [
       "<div>\n",
       "<style scoped>\n",
       "    .dataframe tbody tr th:only-of-type {\n",
       "        vertical-align: middle;\n",
       "    }\n",
       "\n",
       "    .dataframe tbody tr th {\n",
       "        vertical-align: top;\n",
       "    }\n",
       "\n",
       "    .dataframe thead th {\n",
       "        text-align: right;\n",
       "    }\n",
       "</style>\n",
       "<table border=\"1\" class=\"dataframe\">\n",
       "  <thead>\n",
       "    <tr style=\"text-align: right;\">\n",
       "      <th></th>\n",
       "      <th>filename</th>\n",
       "      <th>slug</th>\n",
       "      <th>grade_level</th>\n",
       "      <th>Original_Index</th>\n",
       "      <th>ose_full_mbert_classification</th>\n",
       "    </tr>\n",
       "  </thead>\n",
       "  <tbody>\n",
       "    <tr>\n",
       "      <th>0</th>\n",
       "      <td>572operation-comp.txt</td>\n",
       "      <td>572operation</td>\n",
       "      <td>1</td>\n",
       "      <td>735</td>\n",
       "      <td>1.0</td>\n",
       "    </tr>\n",
       "    <tr>\n",
       "      <th>1</th>\n",
       "      <td>76rewriting-comp.txt</td>\n",
       "      <td>76rewriting</td>\n",
       "      <td>1</td>\n",
       "      <td>734</td>\n",
       "      <td>1.0</td>\n",
       "    </tr>\n",
       "    <tr>\n",
       "      <th>2</th>\n",
       "      <td>38rewriting-comp.txt</td>\n",
       "      <td>38rewriting</td>\n",
       "      <td>1</td>\n",
       "      <td>733</td>\n",
       "      <td>1.0</td>\n",
       "    </tr>\n",
       "    <tr>\n",
       "      <th>3</th>\n",
       "      <td>496operation-comp.txt</td>\n",
       "      <td>496operation</td>\n",
       "      <td>1</td>\n",
       "      <td>732</td>\n",
       "      <td>1.0</td>\n",
       "    </tr>\n",
       "    <tr>\n",
       "      <th>4</th>\n",
       "      <td>342operation-comp.txt</td>\n",
       "      <td>342operation</td>\n",
       "      <td>1</td>\n",
       "      <td>731</td>\n",
       "      <td>1.0</td>\n",
       "    </tr>\n",
       "  </tbody>\n",
       "</table>\n",
       "</div>"
      ],
      "text/plain": [
       "                filename          slug  grade_level  Original_Index  \\\n",
       "0  572operation-comp.txt  572operation            1             735   \n",
       "1   76rewriting-comp.txt   76rewriting            1             734   \n",
       "2   38rewriting-comp.txt   38rewriting            1             733   \n",
       "3  496operation-comp.txt  496operation            1             732   \n",
       "4  342operation-comp.txt  342operation            1             731   \n",
       "\n",
       "   ose_full_mbert_classification  \n",
       "0                            1.0  \n",
       "1                            1.0  \n",
       "2                            1.0  \n",
       "3                            1.0  \n",
       "4                            1.0  "
      ]
     },
     "execution_count": 14,
     "metadata": {},
     "output_type": "execute_result"
    }
   ],
   "source": [
    "results.head()"
   ]
  },
  {
   "cell_type": "code",
   "execution_count": 15,
   "id": "3db928bd",
   "metadata": {},
   "outputs": [
    {
     "data": {
      "text/plain": [
       "Index(['filename', 'slug', 'grade_level', 'Original_Index',\n",
       "       'ose_full_mbert_classification'],\n",
       "      dtype='object')"
      ]
     },
     "execution_count": 15,
     "metadata": {},
     "output_type": "execute_result"
    }
   ],
   "source": [
    "results.columns"
   ]
  },
  {
   "cell_type": "code",
   "execution_count": 16,
   "id": "6e14c75f",
   "metadata": {},
   "outputs": [],
   "source": [
    "y_true = results['grade_level'].tolist()"
   ]
  },
  {
   "cell_type": "code",
   "execution_count": 17,
   "id": "6596eb03",
   "metadata": {},
   "outputs": [],
   "source": [
    "tests = ['ose_full_mbert_classification']"
   ]
  },
  {
   "cell_type": "code",
   "execution_count": 18,
   "id": "85789ff2",
   "metadata": {},
   "outputs": [],
   "source": [
    "#diz = classification_report(y_true, results['ose_full_all'], output_dict=True)"
   ]
  },
  {
   "cell_type": "code",
   "execution_count": 19,
   "id": "95893512",
   "metadata": {
    "scrolled": false
   },
   "outputs": [
    {
     "name": "stdout",
     "output_type": "stream",
     "text": [
      "Risultati di ose_full_mbert_classification\n",
      "              precision    recall  f1-score   support\n",
      "\n",
      "           0       0.67      0.01      0.02       736\n",
      "           1       0.50      1.00      0.67       736\n",
      "\n",
      "    accuracy                           0.50      1472\n",
      "   macro avg       0.58      0.50      0.34      1472\n",
      "weighted avg       0.58      0.50      0.34      1472\n",
      "\n"
     ]
    },
    {
     "data": {
      "image/png": "[encoded data removed]",
      "text/plain": [
       "<Figure size 432x288 with 2 Axes>"
      ]
     },
     "metadata": {
      "needs_background": "light"
     },
     "output_type": "display_data"
    }
   ],
   "source": [
    "for test in tests:\n",
    "    y_pred = results[test].tolist()\n",
    "    print(\"Risultati di\", test)\n",
    "    # report\n",
    "    print(classification_report(y_true, y_pred))\n",
    "    # confusion matrix\n",
    "    matrix = confusion_matrix(y_true, y_pred)\n",
    "    disp = ConfusionMatrixDisplay(confusion_matrix=matrix)\n",
    "    disp.plot()\n",
    "    plt.show()"
   ]
  },
  {
   "cell_type": "code",
   "execution_count": 20,
   "id": "f45de87f",
   "metadata": {},
   "outputs": [],
   "source": [
    "# per avere i risultati in dizionario (magari se devo scrivere una nostra funzione di evaluation)\n",
    "#classification_report(y_true, y_pred, output_dict=True)"
   ]
  },
  {
   "cell_type": "code",
   "execution_count": 22,
   "id": "a2588c4e",
   "metadata": {},
   "outputs": [
    {
     "data": {
      "text/plain": [
       "{'0': {'precision': 0.6666666666666666,\n",
       "  'recall': 0.008152173913043478,\n",
       "  'f1-score': 0.016107382550335572,\n",
       "  'support': 736},\n",
       " '1': {'precision': 0.5010252904989747,\n",
       "  'recall': 0.9959239130434783,\n",
       "  'f1-score': 0.6666666666666666,\n",
       "  'support': 736},\n",
       " 'accuracy': 0.5020380434782609,\n",
       " 'macro avg': {'precision': 0.5838459785828207,\n",
       "  'recall': 0.5020380434782609,\n",
       "  'f1-score': 0.3413870246085011,\n",
       "  'support': 1472},\n",
       " 'weighted avg': {'precision': 0.5838459785828206,\n",
       "  'recall': 0.5020380434782609,\n",
       "  'f1-score': 0.34138702460850107,\n",
       "  'support': 1472}}"
      ]
     },
     "execution_count": 22,
     "metadata": {},
     "output_type": "execute_result"
    }
   ],
   "source": [
    "classification_report(y_true, results['ose_full_mbert_classification'], output_dict=True)"
   ]
  },
  {
   "cell_type": "code",
   "execution_count": null,
   "id": "ff4e71b7",
   "metadata": {},
   "outputs": [],
   "source": []
  },
  {
   "cell_type": "markdown",
   "id": "18aa68f5",
   "metadata": {},
   "source": [
    "# newsEN (f1 0,343)"
   ]
  },
  {
   "cell_type": "code",
   "execution_count": 23,
   "id": "d7f555d4",
   "metadata": {},
   "outputs": [],
   "source": [
    "filepath = r'C:\\Users\\betti\\Notebooks\\Tesi\\baseline\\newsen class\\adminit_newsen_mbert_classification_risultati.csv'\n",
    "with open(filepath, 'r', encoding='utf-8') as file:\n",
    "    results = pd.read_csv(file)"
   ]
  },
  {
   "cell_type": "code",
   "execution_count": 24,
   "id": "13bd49b9",
   "metadata": {},
   "outputs": [
    {
     "data": {
      "text/html": [
       "<div>\n",
       "<style scoped>\n",
       "    .dataframe tbody tr th:only-of-type {\n",
       "        vertical-align: middle;\n",
       "    }\n",
       "\n",
       "    .dataframe tbody tr th {\n",
       "        vertical-align: top;\n",
       "    }\n",
       "\n",
       "    .dataframe thead th {\n",
       "        text-align: right;\n",
       "    }\n",
       "</style>\n",
       "<table border=\"1\" class=\"dataframe\">\n",
       "  <thead>\n",
       "    <tr style=\"text-align: right;\">\n",
       "      <th></th>\n",
       "      <th>filename</th>\n",
       "      <th>slug</th>\n",
       "      <th>grade_level</th>\n",
       "      <th>Original_Index</th>\n",
       "      <th>newsen_mbert_classification</th>\n",
       "      <th>softmax_0_newsen_mbert_classification</th>\n",
       "      <th>softmax_1_newsen_mbert_classification</th>\n",
       "    </tr>\n",
       "  </thead>\n",
       "  <tbody>\n",
       "    <tr>\n",
       "      <th>0</th>\n",
       "      <td>762operation-comp.txt</td>\n",
       "      <td>762operation</td>\n",
       "      <td>1</td>\n",
       "      <td>0</td>\n",
       "      <td>1.0</td>\n",
       "      <td>0.005447</td>\n",
       "      <td>0.994553</td>\n",
       "    </tr>\n",
       "    <tr>\n",
       "      <th>1</th>\n",
       "      <td>0rewriting-comp.txt</td>\n",
       "      <td>0rewriting</td>\n",
       "      <td>1</td>\n",
       "      <td>1</td>\n",
       "      <td>1.0</td>\n",
       "      <td>0.005797</td>\n",
       "      <td>0.994203</td>\n",
       "    </tr>\n",
       "    <tr>\n",
       "      <th>2</th>\n",
       "      <td>205operation-comp.txt</td>\n",
       "      <td>205operation</td>\n",
       "      <td>1</td>\n",
       "      <td>2</td>\n",
       "      <td>1.0</td>\n",
       "      <td>0.005441</td>\n",
       "      <td>0.994559</td>\n",
       "    </tr>\n",
       "    <tr>\n",
       "      <th>3</th>\n",
       "      <td>435operation-comp.txt</td>\n",
       "      <td>435operation</td>\n",
       "      <td>1</td>\n",
       "      <td>3</td>\n",
       "      <td>1.0</td>\n",
       "      <td>0.005448</td>\n",
       "      <td>0.994552</td>\n",
       "    </tr>\n",
       "    <tr>\n",
       "      <th>4</th>\n",
       "      <td>686operation-comp.txt</td>\n",
       "      <td>686operation</td>\n",
       "      <td>1</td>\n",
       "      <td>4</td>\n",
       "      <td>1.0</td>\n",
       "      <td>0.005439</td>\n",
       "      <td>0.994561</td>\n",
       "    </tr>\n",
       "  </tbody>\n",
       "</table>\n",
       "</div>"
      ],
      "text/plain": [
       "                filename          slug  grade_level  Original_Index  \\\n",
       "0  762operation-comp.txt  762operation            1               0   \n",
       "1    0rewriting-comp.txt    0rewriting            1               1   \n",
       "2  205operation-comp.txt  205operation            1               2   \n",
       "3  435operation-comp.txt  435operation            1               3   \n",
       "4  686operation-comp.txt  686operation            1               4   \n",
       "\n",
       "   newsen_mbert_classification  softmax_0_newsen_mbert_classification  \\\n",
       "0                          1.0                               0.005447   \n",
       "1                          1.0                               0.005797   \n",
       "2                          1.0                               0.005441   \n",
       "3                          1.0                               0.005448   \n",
       "4                          1.0                               0.005439   \n",
       "\n",
       "   softmax_1_newsen_mbert_classification  \n",
       "0                               0.994553  \n",
       "1                               0.994203  \n",
       "2                               0.994559  \n",
       "3                               0.994552  \n",
       "4                               0.994561  "
      ]
     },
     "execution_count": 24,
     "metadata": {},
     "output_type": "execute_result"
    }
   ],
   "source": [
    "results.head()"
   ]
  },
  {
   "cell_type": "code",
   "execution_count": 25,
   "id": "78dec445",
   "metadata": {},
   "outputs": [
    {
     "data": {
      "text/plain": [
       "Index(['filename', 'slug', 'grade_level', 'Original_Index',\n",
       "       'newsen_mbert_classification', 'softmax_0_newsen_mbert_classification',\n",
       "       'softmax_1_newsen_mbert_classification'],\n",
       "      dtype='object')"
      ]
     },
     "execution_count": 25,
     "metadata": {},
     "output_type": "execute_result"
    }
   ],
   "source": [
    "results.columns"
   ]
  },
  {
   "cell_type": "code",
   "execution_count": 26,
   "id": "1ed6d3e3",
   "metadata": {},
   "outputs": [],
   "source": [
    "y_true = results['grade_level'].tolist()"
   ]
  },
  {
   "cell_type": "code",
   "execution_count": 27,
   "id": "817e862a",
   "metadata": {},
   "outputs": [],
   "source": [
    "tests = ['newsen_mbert_classification']"
   ]
  },
  {
   "cell_type": "code",
   "execution_count": 10,
   "id": "9febf73f",
   "metadata": {},
   "outputs": [],
   "source": [
    "#diz = classification_report(y_true, results['ose_full_all'], output_dict=True)"
   ]
  },
  {
   "cell_type": "code",
   "execution_count": 28,
   "id": "147e6668",
   "metadata": {
    "scrolled": false
   },
   "outputs": [
    {
     "name": "stdout",
     "output_type": "stream",
     "text": [
      "Risultati di newsen_mbert_classification\n",
      "              precision    recall  f1-score   support\n",
      "\n",
      "           0       0.70      0.01      0.02       736\n",
      "           1       0.50      1.00      0.67       736\n",
      "\n",
      "    accuracy                           0.50      1472\n",
      "   macro avg       0.60      0.50      0.34      1472\n",
      "weighted avg       0.60      0.50      0.34      1472\n",
      "\n"
     ]
    },
    {
     "data": {
      "image/png": "[encoded data removed]",
      "text/plain": [
       "<Figure size 432x288 with 2 Axes>"
      ]
     },
     "metadata": {
      "needs_background": "light"
     },
     "output_type": "display_data"
    }
   ],
   "source": [
    "for test in tests:\n",
    "    y_pred = results[test].tolist()\n",
    "    print(\"Risultati di\", test)\n",
    "    # report\n",
    "    print(classification_report(y_true, y_pred))\n",
    "    # confusion matrix\n",
    "    matrix = confusion_matrix(y_true, y_pred)\n",
    "    disp = ConfusionMatrixDisplay(confusion_matrix=matrix)\n",
    "    disp.plot()\n",
    "    plt.show()"
   ]
  },
  {
   "cell_type": "code",
   "execution_count": 10,
   "id": "598adf75",
   "metadata": {},
   "outputs": [],
   "source": [
    "# per avere i risultati in dizionario (magari se devo scrivere una nostra funzione di evaluation)\n",
    "#classification_report(y_true, y_pred, output_dict=True)"
   ]
  },
  {
   "cell_type": "code",
   "execution_count": 29,
   "id": "95622a26",
   "metadata": {},
   "outputs": [
    {
     "data": {
      "text/plain": [
       "{'0': {'precision': 0.7,\n",
       "  'recall': 0.009510869565217392,\n",
       "  'f1-score': 0.01876675603217158,\n",
       "  'support': 736},\n",
       " '1': {'precision': 0.5013679890560876,\n",
       "  'recall': 0.9959239130434783,\n",
       "  'f1-score': 0.6669699727024568,\n",
       "  'support': 736},\n",
       " 'accuracy': 0.5027173913043478,\n",
       " 'macro avg': {'precision': 0.6006839945280438,\n",
       "  'recall': 0.5027173913043478,\n",
       "  'f1-score': 0.3428683643673142,\n",
       "  'support': 1472},\n",
       " 'weighted avg': {'precision': 0.6006839945280438,\n",
       "  'recall': 0.5027173913043478,\n",
       "  'f1-score': 0.3428683643673142,\n",
       "  'support': 1472}}"
      ]
     },
     "execution_count": 29,
     "metadata": {},
     "output_type": "execute_result"
    }
   ],
   "source": [
    "classification_report(y_true, results['newsen_mbert_classification'], output_dict=True)"
   ]
  },
  {
   "cell_type": "code",
   "execution_count": null,
   "id": "59e70359",
   "metadata": {},
   "outputs": [],
   "source": []
  },
  {
   "cell_type": "markdown",
   "id": "c719baa4",
   "metadata": {},
   "source": [
    "# newsES (f1 0,370)"
   ]
  },
  {
   "cell_type": "code",
   "execution_count": 30,
   "id": "e2a972ba",
   "metadata": {},
   "outputs": [],
   "source": [
    "filepath = r'C:\\Users\\betti\\Notebooks\\Tesi\\baseline\\vecchi\\newses classification\\adminitnewses_mbert_classification_risultati.csv'\n",
    "with open(filepath, 'r', encoding='utf-8') as file:\n",
    "    results = pd.read_csv(file)"
   ]
  },
  {
   "cell_type": "code",
   "execution_count": 31,
   "id": "bb308de1",
   "metadata": {},
   "outputs": [
    {
     "data": {
      "text/html": [
       "<div>\n",
       "<style scoped>\n",
       "    .dataframe tbody tr th:only-of-type {\n",
       "        vertical-align: middle;\n",
       "    }\n",
       "\n",
       "    .dataframe tbody tr th {\n",
       "        vertical-align: top;\n",
       "    }\n",
       "\n",
       "    .dataframe thead th {\n",
       "        text-align: right;\n",
       "    }\n",
       "</style>\n",
       "<table border=\"1\" class=\"dataframe\">\n",
       "  <thead>\n",
       "    <tr style=\"text-align: right;\">\n",
       "      <th></th>\n",
       "      <th>filename</th>\n",
       "      <th>slug</th>\n",
       "      <th>grade_level</th>\n",
       "      <th>Original_Index</th>\n",
       "      <th>newses_mbert_classification</th>\n",
       "      <th>softmax_0_newses_mbert_classification</th>\n",
       "      <th>softmax_1_newses_mbert_classification</th>\n",
       "    </tr>\n",
       "  </thead>\n",
       "  <tbody>\n",
       "    <tr>\n",
       "      <th>0</th>\n",
       "      <td>762operation-comp.txt</td>\n",
       "      <td>762operation</td>\n",
       "      <td>1</td>\n",
       "      <td>0</td>\n",
       "      <td>1.0</td>\n",
       "      <td>0.052852</td>\n",
       "      <td>0.947148</td>\n",
       "    </tr>\n",
       "    <tr>\n",
       "      <th>1</th>\n",
       "      <td>0rewriting-comp.txt</td>\n",
       "      <td>0rewriting</td>\n",
       "      <td>1</td>\n",
       "      <td>1</td>\n",
       "      <td>1.0</td>\n",
       "      <td>0.022722</td>\n",
       "      <td>0.977278</td>\n",
       "    </tr>\n",
       "    <tr>\n",
       "      <th>2</th>\n",
       "      <td>205operation-comp.txt</td>\n",
       "      <td>205operation</td>\n",
       "      <td>1</td>\n",
       "      <td>2</td>\n",
       "      <td>1.0</td>\n",
       "      <td>0.010519</td>\n",
       "      <td>0.989481</td>\n",
       "    </tr>\n",
       "    <tr>\n",
       "      <th>3</th>\n",
       "      <td>435operation-comp.txt</td>\n",
       "      <td>435operation</td>\n",
       "      <td>1</td>\n",
       "      <td>3</td>\n",
       "      <td>1.0</td>\n",
       "      <td>0.011577</td>\n",
       "      <td>0.988423</td>\n",
       "    </tr>\n",
       "    <tr>\n",
       "      <th>4</th>\n",
       "      <td>686operation-comp.txt</td>\n",
       "      <td>686operation</td>\n",
       "      <td>1</td>\n",
       "      <td>4</td>\n",
       "      <td>1.0</td>\n",
       "      <td>0.010118</td>\n",
       "      <td>0.989882</td>\n",
       "    </tr>\n",
       "  </tbody>\n",
       "</table>\n",
       "</div>"
      ],
      "text/plain": [
       "                filename          slug  grade_level  Original_Index  \\\n",
       "0  762operation-comp.txt  762operation            1               0   \n",
       "1    0rewriting-comp.txt    0rewriting            1               1   \n",
       "2  205operation-comp.txt  205operation            1               2   \n",
       "3  435operation-comp.txt  435operation            1               3   \n",
       "4  686operation-comp.txt  686operation            1               4   \n",
       "\n",
       "   newses_mbert_classification  softmax_0_newses_mbert_classification  \\\n",
       "0                          1.0                               0.052852   \n",
       "1                          1.0                               0.022722   \n",
       "2                          1.0                               0.010519   \n",
       "3                          1.0                               0.011577   \n",
       "4                          1.0                               0.010118   \n",
       "\n",
       "   softmax_1_newses_mbert_classification  \n",
       "0                               0.947148  \n",
       "1                               0.977278  \n",
       "2                               0.989481  \n",
       "3                               0.988423  \n",
       "4                               0.989882  "
      ]
     },
     "execution_count": 31,
     "metadata": {},
     "output_type": "execute_result"
    }
   ],
   "source": [
    "results.head()"
   ]
  },
  {
   "cell_type": "code",
   "execution_count": 32,
   "id": "df78de97",
   "metadata": {},
   "outputs": [
    {
     "data": {
      "text/plain": [
       "Index(['filename', 'slug', 'grade_level', 'Original_Index',\n",
       "       'newses_mbert_classification', 'softmax_0_newses_mbert_classification',\n",
       "       'softmax_1_newses_mbert_classification'],\n",
       "      dtype='object')"
      ]
     },
     "execution_count": 32,
     "metadata": {},
     "output_type": "execute_result"
    }
   ],
   "source": [
    "results.columns"
   ]
  },
  {
   "cell_type": "code",
   "execution_count": 33,
   "id": "71596584",
   "metadata": {},
   "outputs": [],
   "source": [
    "y_true = results['grade_level'].tolist()"
   ]
  },
  {
   "cell_type": "code",
   "execution_count": 34,
   "id": "95b71946",
   "metadata": {},
   "outputs": [],
   "source": [
    "tests = ['newses_mbert_classification']"
   ]
  },
  {
   "cell_type": "code",
   "execution_count": 35,
   "id": "d6f540d5",
   "metadata": {},
   "outputs": [],
   "source": [
    "#diz = classification_report(y_true, results['ose_full_all'], output_dict=True)"
   ]
  },
  {
   "cell_type": "code",
   "execution_count": 36,
   "id": "978665ea",
   "metadata": {
    "scrolled": false
   },
   "outputs": [
    {
     "name": "stdout",
     "output_type": "stream",
     "text": [
      "Risultati di newses_mbert_classification\n",
      "              precision    recall  f1-score   support\n",
      "\n",
      "           0       0.64      0.04      0.07       736\n",
      "           1       0.50      0.98      0.67       736\n",
      "\n",
      "    accuracy                           0.51      1472\n",
      "   macro avg       0.57      0.51      0.37      1472\n",
      "weighted avg       0.57      0.51      0.37      1472\n",
      "\n"
     ]
    },
    {
     "data": {
      "image/png": "[encoded data removed]",
      "text/plain": [
       "<Figure size 432x288 with 2 Axes>"
      ]
     },
     "metadata": {
      "needs_background": "light"
     },
     "output_type": "display_data"
    }
   ],
   "source": [
    "for test in tests:\n",
    "    y_pred = results[test].tolist()\n",
    "    print(\"Risultati di\", test)\n",
    "    # report\n",
    "    print(classification_report(y_true, y_pred))\n",
    "    # confusion matrix\n",
    "    matrix = confusion_matrix(y_true, y_pred)\n",
    "    disp = ConfusionMatrixDisplay(confusion_matrix=matrix)\n",
    "    disp.plot()\n",
    "    plt.show()"
   ]
  },
  {
   "cell_type": "code",
   "execution_count": 10,
   "id": "96baf45c",
   "metadata": {},
   "outputs": [],
   "source": [
    "# per avere i risultati in dizionario (magari se devo scrivere una nostra funzione di evaluation)\n",
    "#classification_report(y_true, y_pred, output_dict=True)"
   ]
  },
  {
   "cell_type": "code",
   "execution_count": 37,
   "id": "9ed58597",
   "metadata": {},
   "outputs": [
    {
     "data": {
      "text/plain": [
       "{'0': {'precision': 0.6444444444444445,\n",
       "  'recall': 0.03940217391304348,\n",
       "  'f1-score': 0.07426376440460948,\n",
       "  'support': 736},\n",
       " '1': {'precision': 0.5045550105115627,\n",
       "  'recall': 0.9782608695652174,\n",
       "  'f1-score': 0.665742024965326,\n",
       "  'support': 736},\n",
       " 'accuracy': 0.5088315217391305,\n",
       " 'macro avg': {'precision': 0.5744997274780036,\n",
       "  'recall': 0.5088315217391305,\n",
       "  'f1-score': 0.3700028946849677,\n",
       "  'support': 1472},\n",
       " 'weighted avg': {'precision': 0.5744997274780036,\n",
       "  'recall': 0.5088315217391305,\n",
       "  'f1-score': 0.3700028946849677,\n",
       "  'support': 1472}}"
      ]
     },
     "execution_count": 37,
     "metadata": {},
     "output_type": "execute_result"
    }
   ],
   "source": [
    "classification_report(y_true, results['newses_mbert_classification'], output_dict=True)"
   ]
  },
  {
   "cell_type": "code",
   "execution_count": null,
   "id": "8860f14c",
   "metadata": {},
   "outputs": [],
   "source": []
  },
  {
   "cell_type": "markdown",
   "id": "d3853b00",
   "metadata": {},
   "source": [
    "# Selezione parametri: ose_bert (cv) lr=2e-5 x2 epoche (f1 0,651)"
   ]
  },
  {
   "cell_type": "code",
   "execution_count": 38,
   "id": "8324fff6",
   "metadata": {},
   "outputs": [],
   "source": [
    "filepath = r'C:\\Users\\betti\\Notebooks\\Tesi\\baseline\\2eplr2e-5 ose cv\\ose_full_cv_risultati.csv'\n",
    "with open(filepath, 'r', encoding='utf-8') as file:\n",
    "    results = pd.read_csv(file)"
   ]
  },
  {
   "cell_type": "code",
   "execution_count": 39,
   "id": "9fdf7605",
   "metadata": {},
   "outputs": [
    {
     "data": {
      "text/html": [
       "<div>\n",
       "<style scoped>\n",
       "    .dataframe tbody tr th:only-of-type {\n",
       "        vertical-align: middle;\n",
       "    }\n",
       "\n",
       "    .dataframe tbody tr th {\n",
       "        vertical-align: top;\n",
       "    }\n",
       "\n",
       "    .dataframe thead th {\n",
       "        text-align: right;\n",
       "    }\n",
       "</style>\n",
       "<table border=\"1\" class=\"dataframe\">\n",
       "  <thead>\n",
       "    <tr style=\"text-align: right;\">\n",
       "      <th></th>\n",
       "      <th>filename</th>\n",
       "      <th>slug</th>\n",
       "      <th>grade_level</th>\n",
       "      <th>Original_Index</th>\n",
       "      <th>ose_full_bert_classification</th>\n",
       "    </tr>\n",
       "  </thead>\n",
       "  <tbody>\n",
       "    <tr>\n",
       "      <th>0</th>\n",
       "      <td>0-comp.txt</td>\n",
       "      <td>0</td>\n",
       "      <td>1</td>\n",
       "      <td>0</td>\n",
       "      <td>1.0</td>\n",
       "    </tr>\n",
       "    <tr>\n",
       "      <th>1</th>\n",
       "      <td>1-comp.txt</td>\n",
       "      <td>1</td>\n",
       "      <td>1</td>\n",
       "      <td>2</td>\n",
       "      <td>1.0</td>\n",
       "    </tr>\n",
       "    <tr>\n",
       "      <th>2</th>\n",
       "      <td>2-comp.txt</td>\n",
       "      <td>2</td>\n",
       "      <td>1</td>\n",
       "      <td>4</td>\n",
       "      <td>1.0</td>\n",
       "    </tr>\n",
       "    <tr>\n",
       "      <th>3</th>\n",
       "      <td>3-comp.txt</td>\n",
       "      <td>3</td>\n",
       "      <td>1</td>\n",
       "      <td>6</td>\n",
       "      <td>0.0</td>\n",
       "    </tr>\n",
       "    <tr>\n",
       "      <th>4</th>\n",
       "      <td>4-comp.txt</td>\n",
       "      <td>4</td>\n",
       "      <td>1</td>\n",
       "      <td>8</td>\n",
       "      <td>1.0</td>\n",
       "    </tr>\n",
       "  </tbody>\n",
       "</table>\n",
       "</div>"
      ],
      "text/plain": [
       "     filename  slug  grade_level  Original_Index  ose_full_bert_classification\n",
       "0  0-comp.txt     0            1               0                           1.0\n",
       "1  1-comp.txt     1            1               2                           1.0\n",
       "2  2-comp.txt     2            1               4                           1.0\n",
       "3  3-comp.txt     3            1               6                           0.0\n",
       "4  4-comp.txt     4            1               8                           1.0"
      ]
     },
     "execution_count": 39,
     "metadata": {},
     "output_type": "execute_result"
    }
   ],
   "source": [
    "results.head()"
   ]
  },
  {
   "cell_type": "code",
   "execution_count": 40,
   "id": "15b62f7e",
   "metadata": {},
   "outputs": [
    {
     "data": {
      "text/plain": [
       "Index(['filename', 'slug', 'grade_level', 'Original_Index',\n",
       "       'ose_full_bert_classification'],\n",
       "      dtype='object')"
      ]
     },
     "execution_count": 40,
     "metadata": {},
     "output_type": "execute_result"
    }
   ],
   "source": [
    "results.columns"
   ]
  },
  {
   "cell_type": "code",
   "execution_count": 41,
   "id": "d513f2d8",
   "metadata": {},
   "outputs": [],
   "source": [
    "y_true = results['grade_level'].tolist()"
   ]
  },
  {
   "cell_type": "code",
   "execution_count": 42,
   "id": "d453a84b",
   "metadata": {},
   "outputs": [],
   "source": [
    "tests = ['ose_full_bert_classification']"
   ]
  },
  {
   "cell_type": "code",
   "execution_count": 44,
   "id": "34aeabd1",
   "metadata": {
    "scrolled": false
   },
   "outputs": [
    {
     "name": "stdout",
     "output_type": "stream",
     "text": [
      "Risultati di ose_full_bert_classification\n",
      "              precision    recall  f1-score   support\n",
      "\n",
      "           0       0.63      0.77      0.69      5994\n",
      "           1       0.70      0.54      0.61      5994\n",
      "\n",
      "    accuracy                           0.66     11988\n",
      "   macro avg       0.66      0.66      0.65     11988\n",
      "weighted avg       0.66      0.66      0.65     11988\n",
      "\n"
     ]
    },
    {
     "data": {
      "image/png": "[encoded data removed]",
      "text/plain": [
       "<Figure size 432x288 with 2 Axes>"
      ]
     },
     "metadata": {
      "needs_background": "light"
     },
     "output_type": "display_data"
    }
   ],
   "source": [
    "for test in tests:\n",
    "    y_pred = results[test].tolist()\n",
    "    print(\"Risultati di\", test)\n",
    "    # report\n",
    "    print(classification_report(y_true, y_pred))\n",
    "    # confusion matrix\n",
    "    matrix = confusion_matrix(y_true, y_pred)\n",
    "    disp = ConfusionMatrixDisplay(confusion_matrix=matrix)\n",
    "    disp.plot()\n",
    "    plt.show()"
   ]
  },
  {
   "cell_type": "code",
   "execution_count": 45,
   "id": "ef40bee2",
   "metadata": {},
   "outputs": [
    {
     "data": {
      "text/plain": [
       "{'0': {'precision': 0.626064620792213,\n",
       "  'recall': 0.7726059392726059,\n",
       "  'f1-score': 0.6916585766559629,\n",
       "  'support': 5994},\n",
       " '1': {'precision': 0.7031147898061425,\n",
       "  'recall': 0.5385385385385385,\n",
       "  'f1-score': 0.6099196976854038,\n",
       "  'support': 5994},\n",
       " 'accuracy': 0.6555722389055723,\n",
       " 'macro avg': {'precision': 0.6645897052991778,\n",
       "  'recall': 0.6555722389055723,\n",
       "  'f1-score': 0.6507891371706833,\n",
       "  'support': 11988},\n",
       " 'weighted avg': {'precision': 0.6645897052991777,\n",
       "  'recall': 0.6555722389055723,\n",
       "  'f1-score': 0.6507891371706834,\n",
       "  'support': 11988}}"
      ]
     },
     "execution_count": 45,
     "metadata": {},
     "output_type": "execute_result"
    }
   ],
   "source": [
    "classification_report(y_true, results['ose_full_bert_classification'], output_dict=True)"
   ]
  },
  {
   "cell_type": "code",
   "execution_count": null,
   "id": "a77bbd76",
   "metadata": {},
   "outputs": [],
   "source": []
  },
  {
   "cell_type": "markdown",
   "id": "11f0be4d",
   "metadata": {},
   "source": [
    "# Selezione parametri: ose_mbert lr=2e-5 x2 epoche (f1 0,333)"
   ]
  },
  {
   "cell_type": "code",
   "execution_count": 46,
   "id": "c438de5c",
   "metadata": {},
   "outputs": [],
   "source": [
    "filepath = r'C:\\Users\\betti\\Notebooks\\Tesi\\baseline\\2eplr2e-5 ose adminit\\baseline-ose.csv'\n",
    "with open(filepath, 'r', encoding='utf-8') as file:\n",
    "    results = pd.read_csv(file)"
   ]
  },
  {
   "cell_type": "code",
   "execution_count": 47,
   "id": "45adbe63",
   "metadata": {},
   "outputs": [
    {
     "data": {
      "text/html": [
       "<div>\n",
       "<style scoped>\n",
       "    .dataframe tbody tr th:only-of-type {\n",
       "        vertical-align: middle;\n",
       "    }\n",
       "\n",
       "    .dataframe tbody tr th {\n",
       "        vertical-align: top;\n",
       "    }\n",
       "\n",
       "    .dataframe thead th {\n",
       "        text-align: right;\n",
       "    }\n",
       "</style>\n",
       "<table border=\"1\" class=\"dataframe\">\n",
       "  <thead>\n",
       "    <tr style=\"text-align: right;\">\n",
       "      <th></th>\n",
       "      <th>filename</th>\n",
       "      <th>slug</th>\n",
       "      <th>grade_level</th>\n",
       "      <th>Original_Index</th>\n",
       "      <th>ose_full_mbert_classification-2ep2e-5</th>\n",
       "    </tr>\n",
       "  </thead>\n",
       "  <tbody>\n",
       "    <tr>\n",
       "      <th>0</th>\n",
       "      <td>572operation-comp.txt</td>\n",
       "      <td>572operation</td>\n",
       "      <td>1</td>\n",
       "      <td>735</td>\n",
       "      <td>0.0</td>\n",
       "    </tr>\n",
       "    <tr>\n",
       "      <th>1</th>\n",
       "      <td>76rewriting-comp.txt</td>\n",
       "      <td>76rewriting</td>\n",
       "      <td>1</td>\n",
       "      <td>734</td>\n",
       "      <td>0.0</td>\n",
       "    </tr>\n",
       "    <tr>\n",
       "      <th>2</th>\n",
       "      <td>38rewriting-comp.txt</td>\n",
       "      <td>38rewriting</td>\n",
       "      <td>1</td>\n",
       "      <td>733</td>\n",
       "      <td>0.0</td>\n",
       "    </tr>\n",
       "    <tr>\n",
       "      <th>3</th>\n",
       "      <td>496operation-comp.txt</td>\n",
       "      <td>496operation</td>\n",
       "      <td>1</td>\n",
       "      <td>732</td>\n",
       "      <td>0.0</td>\n",
       "    </tr>\n",
       "    <tr>\n",
       "      <th>4</th>\n",
       "      <td>342operation-comp.txt</td>\n",
       "      <td>342operation</td>\n",
       "      <td>1</td>\n",
       "      <td>731</td>\n",
       "      <td>0.0</td>\n",
       "    </tr>\n",
       "  </tbody>\n",
       "</table>\n",
       "</div>"
      ],
      "text/plain": [
       "                filename          slug  grade_level  Original_Index  \\\n",
       "0  572operation-comp.txt  572operation            1             735   \n",
       "1   76rewriting-comp.txt   76rewriting            1             734   \n",
       "2   38rewriting-comp.txt   38rewriting            1             733   \n",
       "3  496operation-comp.txt  496operation            1             732   \n",
       "4  342operation-comp.txt  342operation            1             731   \n",
       "\n",
       "   ose_full_mbert_classification-2ep2e-5  \n",
       "0                                    0.0  \n",
       "1                                    0.0  \n",
       "2                                    0.0  \n",
       "3                                    0.0  \n",
       "4                                    0.0  "
      ]
     },
     "execution_count": 47,
     "metadata": {},
     "output_type": "execute_result"
    }
   ],
   "source": [
    "results.head()"
   ]
  },
  {
   "cell_type": "code",
   "execution_count": 48,
   "id": "69a9e9e5",
   "metadata": {},
   "outputs": [
    {
     "data": {
      "text/plain": [
       "Index(['filename', 'slug', 'grade_level', 'Original_Index',\n",
       "       'ose_full_mbert_classification-2ep2e-5'],\n",
       "      dtype='object')"
      ]
     },
     "execution_count": 48,
     "metadata": {},
     "output_type": "execute_result"
    }
   ],
   "source": [
    "results.columns"
   ]
  },
  {
   "cell_type": "code",
   "execution_count": 49,
   "id": "afc73d52",
   "metadata": {},
   "outputs": [],
   "source": [
    "y_true = results['grade_level'].tolist()"
   ]
  },
  {
   "cell_type": "code",
   "execution_count": 50,
   "id": "f33e174d",
   "metadata": {},
   "outputs": [],
   "source": [
    "tests = ['ose_full_mbert_classification-2ep2e-5']"
   ]
  },
  {
   "cell_type": "code",
   "execution_count": 51,
   "id": "1f5b60db",
   "metadata": {
    "scrolled": false
   },
   "outputs": [
    {
     "name": "stdout",
     "output_type": "stream",
     "text": [
      "Risultati di ose_full_mbert_classification-2ep2e-5\n",
      "              precision    recall  f1-score   support\n",
      "\n",
      "           0       0.50      1.00      0.67       736\n",
      "           1       0.00      0.00      0.00       736\n",
      "\n",
      "    accuracy                           0.50      1472\n",
      "   macro avg       0.25      0.50      0.33      1472\n",
      "weighted avg       0.25      0.50      0.33      1472\n",
      "\n"
     ]
    },
    {
     "name": "stderr",
     "output_type": "stream",
     "text": [
      "D:\\Anaconda\\lib\\site-packages\\sklearn\\metrics\\_classification.py:1245: UndefinedMetricWarning: Precision and F-score are ill-defined and being set to 0.0 in labels with no predicted samples. Use `zero_division` parameter to control this behavior.\n",
      "  _warn_prf(average, modifier, msg_start, len(result))\n",
      "D:\\Anaconda\\lib\\site-packages\\sklearn\\metrics\\_classification.py:1245: UndefinedMetricWarning: Precision and F-score are ill-defined and being set to 0.0 in labels with no predicted samples. Use `zero_division` parameter to control this behavior.\n",
      "  _warn_prf(average, modifier, msg_start, len(result))\n",
      "D:\\Anaconda\\lib\\site-packages\\sklearn\\metrics\\_classification.py:1245: UndefinedMetricWarning: Precision and F-score are ill-defined and being set to 0.0 in labels with no predicted samples. Use `zero_division` parameter to control this behavior.\n",
      "  _warn_prf(average, modifier, msg_start, len(result))\n"
     ]
    },
    {
     "data": {
      "image/png": "[encoded data removed]",
      "text/plain": [
       "<Figure size 432x288 with 2 Axes>"
      ]
     },
     "metadata": {
      "needs_background": "light"
     },
     "output_type": "display_data"
    }
   ],
   "source": [
    "for test in tests:\n",
    "    y_pred = results[test].tolist()\n",
    "    print(\"Risultati di\", test)\n",
    "    # report\n",
    "    print(classification_report(y_true, y_pred))\n",
    "    # confusion matrix\n",
    "    matrix = confusion_matrix(y_true, y_pred)\n",
    "    disp = ConfusionMatrixDisplay(confusion_matrix=matrix)\n",
    "    disp.plot()\n",
    "    plt.show()"
   ]
  },
  {
   "cell_type": "code",
   "execution_count": 52,
   "id": "87558422",
   "metadata": {},
   "outputs": [
    {
     "name": "stderr",
     "output_type": "stream",
     "text": [
      "D:\\Anaconda\\lib\\site-packages\\sklearn\\metrics\\_classification.py:1245: UndefinedMetricWarning: Precision and F-score are ill-defined and being set to 0.0 in labels with no predicted samples. Use `zero_division` parameter to control this behavior.\n",
      "  _warn_prf(average, modifier, msg_start, len(result))\n",
      "D:\\Anaconda\\lib\\site-packages\\sklearn\\metrics\\_classification.py:1245: UndefinedMetricWarning: Precision and F-score are ill-defined and being set to 0.0 in labels with no predicted samples. Use `zero_division` parameter to control this behavior.\n",
      "  _warn_prf(average, modifier, msg_start, len(result))\n",
      "D:\\Anaconda\\lib\\site-packages\\sklearn\\metrics\\_classification.py:1245: UndefinedMetricWarning: Precision and F-score are ill-defined and being set to 0.0 in labels with no predicted samples. Use `zero_division` parameter to control this behavior.\n",
      "  _warn_prf(average, modifier, msg_start, len(result))\n"
     ]
    },
    {
     "data": {
      "text/plain": [
       "{'0': {'precision': 0.5,\n",
       "  'recall': 1.0,\n",
       "  'f1-score': 0.6666666666666666,\n",
       "  'support': 736},\n",
       " '1': {'precision': 0.0, 'recall': 0.0, 'f1-score': 0.0, 'support': 736},\n",
       " 'accuracy': 0.5,\n",
       " 'macro avg': {'precision': 0.25,\n",
       "  'recall': 0.5,\n",
       "  'f1-score': 0.3333333333333333,\n",
       "  'support': 1472},\n",
       " 'weighted avg': {'precision': 0.25,\n",
       "  'recall': 0.5,\n",
       "  'f1-score': 0.3333333333333333,\n",
       "  'support': 1472}}"
      ]
     },
     "execution_count": 52,
     "metadata": {},
     "output_type": "execute_result"
    }
   ],
   "source": [
    "classification_report(y_true, results['ose_full_mbert_classification-2ep2e-5'], output_dict=True)"
   ]
  },
  {
   "cell_type": "code",
   "execution_count": null,
   "id": "3c440fe0",
   "metadata": {},
   "outputs": [],
   "source": []
  },
  {
   "cell_type": "markdown",
   "id": "30c2dc18",
   "metadata": {},
   "source": [
    "# Selezione parametri: ose_mbert lr=1e-5, test 1-5 epoche"
   ]
  },
  {
   "cell_type": "code",
   "execution_count": 53,
   "id": "10cda781",
   "metadata": {},
   "outputs": [],
   "source": [
    "filepath = r'C:\\Users\\betti\\Notebooks\\Tesi\\baseline\\mbert 1e-5\\baseline-adminit.csv'\n",
    "with open(filepath, 'r', encoding='utf-8') as file:\n",
    "    results = pd.read_csv(file)"
   ]
  },
  {
   "cell_type": "code",
   "execution_count": 54,
   "id": "945072fd",
   "metadata": {},
   "outputs": [
    {
     "data": {
      "text/html": [
       "<div>\n",
       "<style scoped>\n",
       "    .dataframe tbody tr th:only-of-type {\n",
       "        vertical-align: middle;\n",
       "    }\n",
       "\n",
       "    .dataframe tbody tr th {\n",
       "        vertical-align: top;\n",
       "    }\n",
       "\n",
       "    .dataframe thead th {\n",
       "        text-align: right;\n",
       "    }\n",
       "</style>\n",
       "<table border=\"1\" class=\"dataframe\">\n",
       "  <thead>\n",
       "    <tr style=\"text-align: right;\">\n",
       "      <th></th>\n",
       "      <th>filename</th>\n",
       "      <th>slug</th>\n",
       "      <th>grade_level</th>\n",
       "      <th>Original_Index</th>\n",
       "      <th>ep1</th>\n",
       "      <th>ep2</th>\n",
       "      <th>ep3</th>\n",
       "      <th>ep4</th>\n",
       "      <th>ep5</th>\n",
       "    </tr>\n",
       "  </thead>\n",
       "  <tbody>\n",
       "    <tr>\n",
       "      <th>0</th>\n",
       "      <td>572operation-comp.txt</td>\n",
       "      <td>572operation</td>\n",
       "      <td>1</td>\n",
       "      <td>735</td>\n",
       "      <td>1</td>\n",
       "      <td>1</td>\n",
       "      <td>1</td>\n",
       "      <td>1</td>\n",
       "      <td>1</td>\n",
       "    </tr>\n",
       "    <tr>\n",
       "      <th>1</th>\n",
       "      <td>76rewriting-comp.txt</td>\n",
       "      <td>76rewriting</td>\n",
       "      <td>1</td>\n",
       "      <td>734</td>\n",
       "      <td>1</td>\n",
       "      <td>1</td>\n",
       "      <td>1</td>\n",
       "      <td>1</td>\n",
       "      <td>1</td>\n",
       "    </tr>\n",
       "    <tr>\n",
       "      <th>2</th>\n",
       "      <td>38rewriting-comp.txt</td>\n",
       "      <td>38rewriting</td>\n",
       "      <td>1</td>\n",
       "      <td>733</td>\n",
       "      <td>0</td>\n",
       "      <td>1</td>\n",
       "      <td>1</td>\n",
       "      <td>1</td>\n",
       "      <td>1</td>\n",
       "    </tr>\n",
       "    <tr>\n",
       "      <th>3</th>\n",
       "      <td>496operation-comp.txt</td>\n",
       "      <td>496operation</td>\n",
       "      <td>1</td>\n",
       "      <td>732</td>\n",
       "      <td>1</td>\n",
       "      <td>1</td>\n",
       "      <td>1</td>\n",
       "      <td>0</td>\n",
       "      <td>1</td>\n",
       "    </tr>\n",
       "    <tr>\n",
       "      <th>4</th>\n",
       "      <td>342operation-comp.txt</td>\n",
       "      <td>342operation</td>\n",
       "      <td>1</td>\n",
       "      <td>731</td>\n",
       "      <td>1</td>\n",
       "      <td>0</td>\n",
       "      <td>1</td>\n",
       "      <td>1</td>\n",
       "      <td>1</td>\n",
       "    </tr>\n",
       "  </tbody>\n",
       "</table>\n",
       "</div>"
      ],
      "text/plain": [
       "                filename          slug  grade_level  Original_Index  ep1  ep2  \\\n",
       "0  572operation-comp.txt  572operation            1             735    1    1   \n",
       "1   76rewriting-comp.txt   76rewriting            1             734    1    1   \n",
       "2   38rewriting-comp.txt   38rewriting            1             733    0    1   \n",
       "3  496operation-comp.txt  496operation            1             732    1    1   \n",
       "4  342operation-comp.txt  342operation            1             731    1    0   \n",
       "\n",
       "   ep3  ep4  ep5  \n",
       "0    1    1    1  \n",
       "1    1    1    1  \n",
       "2    1    1    1  \n",
       "3    1    0    1  \n",
       "4    1    1    1  "
      ]
     },
     "execution_count": 54,
     "metadata": {},
     "output_type": "execute_result"
    }
   ],
   "source": [
    "results.head()"
   ]
  },
  {
   "cell_type": "code",
   "execution_count": 55,
   "id": "59c7ac7a",
   "metadata": {},
   "outputs": [
    {
     "data": {
      "text/plain": [
       "Index(['filename', 'slug', 'grade_level', 'Original_Index', 'ep1', 'ep2',\n",
       "       'ep3', 'ep4', 'ep5'],\n",
       "      dtype='object')"
      ]
     },
     "execution_count": 55,
     "metadata": {},
     "output_type": "execute_result"
    }
   ],
   "source": [
    "results.columns"
   ]
  },
  {
   "cell_type": "code",
   "execution_count": 56,
   "id": "0159749c",
   "metadata": {},
   "outputs": [],
   "source": [
    "y_true = results['grade_level'].tolist()"
   ]
  },
  {
   "cell_type": "code",
   "execution_count": 57,
   "id": "c581a394",
   "metadata": {},
   "outputs": [],
   "source": [
    "tests = ['ep1', 'ep2', 'ep3', 'ep4', 'ep5']"
   ]
  },
  {
   "cell_type": "code",
   "execution_count": 58,
   "id": "17050e95",
   "metadata": {
    "scrolled": false
   },
   "outputs": [
    {
     "name": "stdout",
     "output_type": "stream",
     "text": [
      "Risultati di ep1\n",
      "              precision    recall  f1-score   support\n",
      "\n",
      "           0       0.57      0.08      0.14       736\n",
      "           1       0.51      0.94      0.66       736\n",
      "\n",
      "    accuracy                           0.51      1472\n",
      "   macro avg       0.54      0.51      0.40      1472\n",
      "weighted avg       0.54      0.51      0.40      1472\n",
      "\n"
     ]
    },
    {
     "data": {
      "image/png": "[encoded data removed]",
      "text/plain": [
       "<Figure size 432x288 with 2 Axes>"
      ]
     },
     "metadata": {
      "needs_background": "light"
     },
     "output_type": "display_data"
    },
    {
     "name": "stdout",
     "output_type": "stream",
     "text": [
      "Risultati di ep2\n",
      "              precision    recall  f1-score   support\n",
      "\n",
      "           0       0.50      0.01      0.02       736\n",
      "           1       0.50      0.99      0.66       736\n",
      "\n",
      "    accuracy                           0.50      1472\n",
      "   macro avg       0.50      0.50      0.34      1472\n",
      "weighted avg       0.50      0.50      0.34      1472\n",
      "\n"
     ]
    },
    {
     "data": {
      "image/png": "[encoded data removed]",
      "text/plain": [
       "<Figure size 432x288 with 2 Axes>"
      ]
     },
     "metadata": {
      "needs_background": "light"
     },
     "output_type": "display_data"
    },
    {
     "name": "stdout",
     "output_type": "stream",
     "text": [
      "Risultati di ep3\n",
      "              precision    recall  f1-score   support\n",
      "\n",
      "           0       0.58      0.02      0.05       736\n",
      "           1       0.50      0.98      0.66       736\n",
      "\n",
      "    accuracy                           0.50      1472\n",
      "   macro avg       0.54      0.50      0.36      1472\n",
      "weighted avg       0.54      0.50      0.36      1472\n",
      "\n"
     ]
    },
    {
     "data": {
      "image/png": "[encoded data removed]",
      "text/plain": [
       "<Figure size 432x288 with 2 Axes>"
      ]
     },
     "metadata": {
      "needs_background": "light"
     },
     "output_type": "display_data"
    },
    {
     "name": "stdout",
     "output_type": "stream",
     "text": [
      "Risultati di ep4\n",
      "              precision    recall  f1-score   support\n",
      "\n",
      "           0       0.48      0.04      0.08       736\n",
      "           1       0.50      0.95      0.66       736\n",
      "\n",
      "    accuracy                           0.50      1472\n",
      "   macro avg       0.49      0.50      0.37      1472\n",
      "weighted avg       0.49      0.50      0.37      1472\n",
      "\n"
     ]
    },
    {
     "data": {
      "image/png": "[encoded data removed]",
      "text/plain": [
       "<Figure size 432x288 with 2 Axes>"
      ]
     },
     "metadata": {
      "needs_background": "light"
     },
     "output_type": "display_data"
    },
    {
     "name": "stdout",
     "output_type": "stream",
     "text": [
      "Risultati di ep5\n",
      "              precision    recall  f1-score   support\n",
      "\n",
      "           0       0.45      0.04      0.07       736\n",
      "           1       0.50      0.96      0.65       736\n",
      "\n",
      "    accuracy                           0.50      1472\n",
      "   macro avg       0.47      0.50      0.36      1472\n",
      "weighted avg       0.47      0.50      0.36      1472\n",
      "\n"
     ]
    },
    {
     "data": {
      "image/png": "[encoded data removed]",
      "text/plain": [
       "<Figure size 432x288 with 2 Axes>"
      ]
     },
     "metadata": {
      "needs_background": "light"
     },
     "output_type": "display_data"
    }
   ],
   "source": [
    "for test in tests:\n",
    "    y_pred = results[test].tolist()\n",
    "    print(\"Risultati di\", test)\n",
    "    # report\n",
    "    print(classification_report(y_true, y_pred))\n",
    "    # confusion matrix\n",
    "    matrix = confusion_matrix(y_true, y_pred)\n",
    "    disp = ConfusionMatrixDisplay(confusion_matrix=matrix)\n",
    "    disp.plot()\n",
    "    plt.show()"
   ]
  },
  {
   "cell_type": "code",
   "execution_count": 59,
   "id": "7760efcc",
   "metadata": {},
   "outputs": [
    {
     "name": "stdout",
     "output_type": "stream",
     "text": [
      "Risultati di ep1\n",
      "{'0': {'precision': 0.5660377358490566, 'recall': 0.08152173913043478, 'f1-score': 0.14251781472684086, 'support': 736}, '1': {'precision': 0.5051244509516838, 'recall': 0.9375, 'f1-score': 0.6565176022835395, 'support': 736}, 'accuracy': 0.5095108695652174, 'macro avg': {'precision': 0.5355810934003702, 'recall': 0.5095108695652174, 'f1-score': 0.3995177085051902, 'support': 1472}, 'weighted avg': {'precision': 0.5355810934003702, 'recall': 0.5095108695652174, 'f1-score': 0.3995177085051902, 'support': 1472}}\n",
      "\n",
      "\n",
      "Risultati di ep2\n",
      "{'0': {'precision': 0.5, 'recall': 0.009510869565217392, 'f1-score': 0.018666666666666668, 'support': 736}, '1': {'precision': 0.5, 'recall': 0.9904891304347826, 'f1-score': 0.6645396536007292, 'support': 736}, 'accuracy': 0.5, 'macro avg': {'precision': 0.5, 'recall': 0.5, 'f1-score': 0.34160316013369796, 'support': 1472}, 'weighted avg': {'precision': 0.5, 'recall': 0.5, 'f1-score': 0.34160316013369796, 'support': 1472}}\n",
      "\n",
      "\n",
      "Risultati di ep3\n",
      "{'0': {'precision': 0.5806451612903226, 'recall': 0.024456521739130436, 'f1-score': 0.0469361147327249, 'support': 736}, '1': {'precision': 0.501734906315059, 'recall': 0.9823369565217391, 'f1-score': 0.6642168121267801, 'support': 736}, 'accuracy': 0.5033967391304348, 'macro avg': {'precision': 0.5411900338026908, 'recall': 0.5033967391304348, 'f1-score': 0.35557646342975247, 'support': 1472}, 'weighted avg': {'precision': 0.5411900338026908, 'recall': 0.5033967391304348, 'f1-score': 0.35557646342975247, 'support': 1472}}\n",
      "\n",
      "\n",
      "Risultati di ep4\n",
      "{'0': {'precision': 0.47692307692307695, 'recall': 0.042119565217391304, 'f1-score': 0.0774032459425718, 'support': 736}, '1': {'precision': 0.4989339019189765, 'recall': 0.9538043478260869, 'f1-score': 0.6551563229118059, 'support': 736}, 'accuracy': 0.49796195652173914, 'macro avg': {'precision': 0.48792848942102673, 'recall': 0.49796195652173914, 'f1-score': 0.36627978442718884, 'support': 1472}, 'weighted avg': {'precision': 0.4879284894210267, 'recall': 0.49796195652173914, 'f1-score': 0.3662797844271889, 'support': 1472}}\n",
      "\n",
      "\n",
      "Risultati di ep5\n",
      "{'0': {'precision': 0.4482758620689655, 'recall': 0.035326086956521736, 'f1-score': 0.0654911838790932, 'support': 736}, '1': {'precision': 0.49787835926449786, 'recall': 0.9565217391304348, 'f1-score': 0.6548837209302325, 'support': 736}, 'accuracy': 0.49592391304347827, 'macro avg': {'precision': 0.4730771106667317, 'recall': 0.49592391304347827, 'f1-score': 0.3601874524046629, 'support': 1472}, 'weighted avg': {'precision': 0.4730771106667317, 'recall': 0.49592391304347827, 'f1-score': 0.3601874524046629, 'support': 1472}}\n",
      "\n",
      "\n"
     ]
    }
   ],
   "source": [
    "for test in tests:\n",
    "    y_pred = results[test].tolist()\n",
    "    print(\"Risultati di\", test)\n",
    "    # report\n",
    "    print(classification_report(y_true, y_pred, output_dict=True))\n",
    "    print('\\n')"
   ]
  },
  {
   "cell_type": "code",
   "execution_count": null,
   "id": "2627d18e",
   "metadata": {},
   "outputs": [],
   "source": []
  },
  {
   "cell_type": "markdown",
   "id": "1e985aa6",
   "metadata": {},
   "source": [
    "# SVM vecchi test: OSE, kernel 'poly' (SVC)"
   ]
  },
  {
   "cell_type": "code",
   "execution_count": 60,
   "id": "29b4ecdf",
   "metadata": {},
   "outputs": [],
   "source": [
    "filepath = r'C:\\Users\\betti\\Notebooks\\Tesi\\baseline\\svm tr. ose test adminit\\baseline-adminit.csv'\n",
    "with open(filepath, 'r', encoding='utf-8') as file:\n",
    "    results = pd.read_csv(file)"
   ]
  },
  {
   "cell_type": "code",
   "execution_count": 61,
   "id": "041d0458",
   "metadata": {},
   "outputs": [
    {
     "data": {
      "text/html": [
       "<div>\n",
       "<style scoped>\n",
       "    .dataframe tbody tr th:only-of-type {\n",
       "        vertical-align: middle;\n",
       "    }\n",
       "\n",
       "    .dataframe tbody tr th {\n",
       "        vertical-align: top;\n",
       "    }\n",
       "\n",
       "    .dataframe thead th {\n",
       "        text-align: right;\n",
       "    }\n",
       "</style>\n",
       "<table border=\"1\" class=\"dataframe\">\n",
       "  <thead>\n",
       "    <tr style=\"text-align: right;\">\n",
       "      <th></th>\n",
       "      <th>filename</th>\n",
       "      <th>slug</th>\n",
       "      <th>grade_level</th>\n",
       "      <th>Original_Index</th>\n",
       "      <th>poly1000</th>\n",
       "      <th>poly100</th>\n",
       "      <th>poly10</th>\n",
       "      <th>poly1</th>\n",
       "      <th>poly0.1</th>\n",
       "      <th>poly0.01</th>\n",
       "      <th>poly0.001</th>\n",
       "      <th>poly0.0001</th>\n",
       "    </tr>\n",
       "  </thead>\n",
       "  <tbody>\n",
       "    <tr>\n",
       "      <th>0</th>\n",
       "      <td>572operation-comp.txt</td>\n",
       "      <td>572operation</td>\n",
       "      <td>1</td>\n",
       "      <td>735</td>\n",
       "      <td>0</td>\n",
       "      <td>0</td>\n",
       "      <td>0</td>\n",
       "      <td>0</td>\n",
       "      <td>0</td>\n",
       "      <td>0</td>\n",
       "      <td>0</td>\n",
       "      <td>0</td>\n",
       "    </tr>\n",
       "    <tr>\n",
       "      <th>1</th>\n",
       "      <td>76rewriting-comp.txt</td>\n",
       "      <td>76rewriting</td>\n",
       "      <td>1</td>\n",
       "      <td>734</td>\n",
       "      <td>0</td>\n",
       "      <td>0</td>\n",
       "      <td>0</td>\n",
       "      <td>1</td>\n",
       "      <td>1</td>\n",
       "      <td>1</td>\n",
       "      <td>1</td>\n",
       "      <td>1</td>\n",
       "    </tr>\n",
       "    <tr>\n",
       "      <th>2</th>\n",
       "      <td>38rewriting-comp.txt</td>\n",
       "      <td>38rewriting</td>\n",
       "      <td>1</td>\n",
       "      <td>733</td>\n",
       "      <td>0</td>\n",
       "      <td>0</td>\n",
       "      <td>0</td>\n",
       "      <td>0</td>\n",
       "      <td>1</td>\n",
       "      <td>1</td>\n",
       "      <td>1</td>\n",
       "      <td>1</td>\n",
       "    </tr>\n",
       "    <tr>\n",
       "      <th>3</th>\n",
       "      <td>496operation-comp.txt</td>\n",
       "      <td>496operation</td>\n",
       "      <td>1</td>\n",
       "      <td>732</td>\n",
       "      <td>0</td>\n",
       "      <td>0</td>\n",
       "      <td>0</td>\n",
       "      <td>0</td>\n",
       "      <td>0</td>\n",
       "      <td>0</td>\n",
       "      <td>0</td>\n",
       "      <td>0</td>\n",
       "    </tr>\n",
       "    <tr>\n",
       "      <th>4</th>\n",
       "      <td>342operation-comp.txt</td>\n",
       "      <td>342operation</td>\n",
       "      <td>1</td>\n",
       "      <td>731</td>\n",
       "      <td>1</td>\n",
       "      <td>1</td>\n",
       "      <td>1</td>\n",
       "      <td>1</td>\n",
       "      <td>1</td>\n",
       "      <td>1</td>\n",
       "      <td>1</td>\n",
       "      <td>1</td>\n",
       "    </tr>\n",
       "  </tbody>\n",
       "</table>\n",
       "</div>"
      ],
      "text/plain": [
       "                filename          slug  grade_level  Original_Index  poly1000  \\\n",
       "0  572operation-comp.txt  572operation            1             735         0   \n",
       "1   76rewriting-comp.txt   76rewriting            1             734         0   \n",
       "2   38rewriting-comp.txt   38rewriting            1             733         0   \n",
       "3  496operation-comp.txt  496operation            1             732         0   \n",
       "4  342operation-comp.txt  342operation            1             731         1   \n",
       "\n",
       "   poly100  poly10  poly1  poly0.1  poly0.01  poly0.001  poly0.0001  \n",
       "0        0       0      0        0         0          0           0  \n",
       "1        0       0      1        1         1          1           1  \n",
       "2        0       0      0        1         1          1           1  \n",
       "3        0       0      0        0         0          0           0  \n",
       "4        1       1      1        1         1          1           1  "
      ]
     },
     "execution_count": 61,
     "metadata": {},
     "output_type": "execute_result"
    }
   ],
   "source": [
    "results.head()"
   ]
  },
  {
   "cell_type": "code",
   "execution_count": 62,
   "id": "4e81884f",
   "metadata": {},
   "outputs": [
    {
     "data": {
      "text/plain": [
       "Index(['filename', 'slug', 'grade_level', 'Original_Index', 'poly1000',\n",
       "       'poly100', 'poly10', 'poly1', 'poly0.1', 'poly0.01', 'poly0.001',\n",
       "       'poly0.0001'],\n",
       "      dtype='object')"
      ]
     },
     "execution_count": 62,
     "metadata": {},
     "output_type": "execute_result"
    }
   ],
   "source": [
    "results.columns"
   ]
  },
  {
   "cell_type": "code",
   "execution_count": 63,
   "id": "0f63ec51",
   "metadata": {},
   "outputs": [],
   "source": [
    "y_true = results['grade_level'].tolist()"
   ]
  },
  {
   "cell_type": "code",
   "execution_count": 64,
   "id": "a0a9fe03",
   "metadata": {},
   "outputs": [],
   "source": [
    "tests = ['poly1000','poly100', 'poly10', 'poly1', 'poly0.1', 'poly0.01', 'poly0.001', 'poly0.0001']"
   ]
  },
  {
   "cell_type": "code",
   "execution_count": 65,
   "id": "3ee1e01e",
   "metadata": {
    "scrolled": false
   },
   "outputs": [
    {
     "name": "stdout",
     "output_type": "stream",
     "text": [
      "Risultati di poly1000\n",
      "              precision    recall  f1-score   support\n",
      "\n",
      "           0       0.54      0.55      0.54       736\n",
      "           1       0.54      0.52      0.53       736\n",
      "\n",
      "    accuracy                           0.54      1472\n",
      "   macro avg       0.54      0.54      0.54      1472\n",
      "weighted avg       0.54      0.54      0.54      1472\n",
      "\n"
     ]
    },
    {
     "data": {
      "image/png": "[encoded data removed]",
      "text/plain": [
       "<Figure size 432x288 with 2 Axes>"
      ]
     },
     "metadata": {
      "needs_background": "light"
     },
     "output_type": "display_data"
    },
    {
     "name": "stdout",
     "output_type": "stream",
     "text": [
      "Risultati di poly100\n",
      "              precision    recall  f1-score   support\n",
      "\n",
      "           0       0.55      0.40      0.46       736\n",
      "           1       0.53      0.68      0.59       736\n",
      "\n",
      "    accuracy                           0.54      1472\n",
      "   macro avg       0.54      0.54      0.53      1472\n",
      "weighted avg       0.54      0.54      0.53      1472\n",
      "\n"
     ]
    },
    {
     "data": {
      "image/png": "[encoded data removed]",
      "text/plain": [
       "<Figure size 432x288 with 2 Axes>"
      ]
     },
     "metadata": {
      "needs_background": "light"
     },
     "output_type": "display_data"
    },
    {
     "name": "stdout",
     "output_type": "stream",
     "text": [
      "Risultati di poly10\n",
      "              precision    recall  f1-score   support\n",
      "\n",
      "           0       0.53      0.51      0.52       736\n",
      "           1       0.53      0.54      0.54       736\n",
      "\n",
      "    accuracy                           0.53      1472\n",
      "   macro avg       0.53      0.53      0.53      1472\n",
      "weighted avg       0.53      0.53      0.53      1472\n",
      "\n"
     ]
    },
    {
     "data": {
      "image/png": "[encoded data removed]",
      "text/plain": [
       "<Figure size 432x288 with 2 Axes>"
      ]
     },
     "metadata": {
      "needs_background": "light"
     },
     "output_type": "display_data"
    },
    {
     "name": "stdout",
     "output_type": "stream",
     "text": [
      "Risultati di poly1\n",
      "              precision    recall  f1-score   support\n",
      "\n",
      "           0       0.53      0.62      0.57       736\n",
      "           1       0.55      0.46      0.50       736\n",
      "\n",
      "    accuracy                           0.54      1472\n",
      "   macro avg       0.54      0.54      0.53      1472\n",
      "weighted avg       0.54      0.54      0.53      1472\n",
      "\n"
     ]
    },
    {
     "data": {
      "image/png": "[encoded data removed]",
      "text/plain": [
       "<Figure size 432x288 with 2 Axes>"
      ]
     },
     "metadata": {
      "needs_background": "light"
     },
     "output_type": "display_data"
    },
    {
     "name": "stdout",
     "output_type": "stream",
     "text": [
      "Risultati di poly0.1\n",
      "              precision    recall  f1-score   support\n",
      "\n",
      "           0       0.52      0.52      0.52       736\n",
      "           1       0.52      0.52      0.52       736\n",
      "\n",
      "    accuracy                           0.52      1472\n",
      "   macro avg       0.52      0.52      0.52      1472\n",
      "weighted avg       0.52      0.52      0.52      1472\n",
      "\n"
     ]
    },
    {
     "data": {
      "image/png": "[encoded data removed]",
      "text/plain": [
       "<Figure size 432x288 with 2 Axes>"
      ]
     },
     "metadata": {
      "needs_background": "light"
     },
     "output_type": "display_data"
    },
    {
     "name": "stdout",
     "output_type": "stream",
     "text": [
      "Risultati di poly0.01\n",
      "              precision    recall  f1-score   support\n",
      "\n",
      "           0       0.52      0.47      0.49       736\n",
      "           1       0.51      0.56      0.54       736\n",
      "\n",
      "    accuracy                           0.52      1472\n",
      "   macro avg       0.52      0.52      0.52      1472\n",
      "weighted avg       0.52      0.52      0.52      1472\n",
      "\n"
     ]
    },
    {
     "data": {
      "image/png": "[encoded data removed]",
      "text/plain": [
       "<Figure size 432x288 with 2 Axes>"
      ]
     },
     "metadata": {
      "needs_background": "light"
     },
     "output_type": "display_data"
    },
    {
     "name": "stdout",
     "output_type": "stream",
     "text": [
      "Risultati di poly0.001\n",
      "              precision    recall  f1-score   support\n",
      "\n",
      "           0       0.51      0.48      0.49       736\n",
      "           1       0.51      0.54      0.52       736\n",
      "\n",
      "    accuracy                           0.51      1472\n",
      "   macro avg       0.51      0.51      0.51      1472\n",
      "weighted avg       0.51      0.51      0.51      1472\n",
      "\n"
     ]
    },
    {
     "data": {
      "image/png": "[encoded data removed]",
      "text/plain": [
       "<Figure size 432x288 with 2 Axes>"
      ]
     },
     "metadata": {
      "needs_background": "light"
     },
     "output_type": "display_data"
    },
    {
     "name": "stdout",
     "output_type": "stream",
     "text": [
      "Risultati di poly0.0001\n",
      "              precision    recall  f1-score   support\n",
      "\n",
      "           0       0.51      0.66      0.57       736\n",
      "           1       0.51      0.36      0.42       736\n",
      "\n",
      "    accuracy                           0.51      1472\n",
      "   macro avg       0.51      0.51      0.50      1472\n",
      "weighted avg       0.51      0.51      0.50      1472\n",
      "\n"
     ]
    },
    {
     "data": {
      "image/png": "[encoded data removed]",
      "text/plain": [
       "<Figure size 432x288 with 2 Axes>"
      ]
     },
     "metadata": {
      "needs_background": "light"
     },
     "output_type": "display_data"
    }
   ],
   "source": [
    "for test in tests:\n",
    "    y_pred = results[test].tolist()\n",
    "    print(\"Risultati di\", test)\n",
    "    # report\n",
    "    print(classification_report(y_true, y_pred))\n",
    "    # confusion matrix\n",
    "    matrix = confusion_matrix(y_true, y_pred)\n",
    "    disp = ConfusionMatrixDisplay(confusion_matrix=matrix)\n",
    "    disp.plot()\n",
    "    plt.show()"
   ]
  },
  {
   "cell_type": "code",
   "execution_count": 66,
   "id": "234fd936",
   "metadata": {},
   "outputs": [
    {
     "name": "stdout",
     "output_type": "stream",
     "text": [
      "Risultati di poly1000\n",
      "{'0': {'precision': 0.5354330708661418, 'recall': 0.5543478260869565, 'f1-score': 0.5447263017356476, 'support': 736}, '1': {'precision': 0.5380281690140845, 'recall': 0.5190217391304348, 'f1-score': 0.5283540802213001, 'support': 736}, 'accuracy': 0.5366847826086957, 'macro avg': {'precision': 0.5367306199401132, 'recall': 0.5366847826086957, 'f1-score': 0.5365401909784739, 'support': 1472}, 'weighted avg': {'precision': 0.5367306199401132, 'recall': 0.5366847826086957, 'f1-score': 0.5365401909784739, 'support': 1472}}\n",
      "\n",
      "\n",
      "Risultati di poly100\n",
      "{'0': {'precision': 0.5521821631878557, 'recall': 0.3953804347826087, 'f1-score': 0.46080760095011875, 'support': 736}, '1': {'precision': 0.5291005291005291, 'recall': 0.6793478260869565, 'f1-score': 0.5948839976204641, 'support': 736}, 'accuracy': 0.5373641304347826, 'macro avg': {'precision': 0.5406413461441923, 'recall': 0.5373641304347826, 'f1-score': 0.5278457992852914, 'support': 1472}, 'weighted avg': {'precision': 0.5406413461441923, 'recall': 0.5373641304347826, 'f1-score': 0.5278457992852914, 'support': 1472}}\n",
      "\n",
      "\n",
      "Risultati di poly10\n",
      "{'0': {'precision': 0.528169014084507, 'recall': 0.5095108695652174, 'f1-score': 0.5186721991701245, 'support': 736}, '1': {'precision': 0.526246719160105, 'recall': 0.5448369565217391, 'f1-score': 0.5353805073431243, 'support': 736}, 'accuracy': 0.5271739130434783, 'macro avg': {'precision': 0.527207866622306, 'recall': 0.5271739130434783, 'f1-score': 0.5270263532566244, 'support': 1472}, 'weighted avg': {'precision': 0.527207866622306, 'recall': 0.5271739130434783, 'f1-score': 0.5270263532566244, 'support': 1472}}\n",
      "\n",
      "\n",
      "Risultati di poly1\n",
      "{'0': {'precision': 0.5326340326340326, 'recall': 0.6209239130434783, 'f1-score': 0.5734002509410289, 'support': 736}, '1': {'precision': 0.5456026058631922, 'recall': 0.45516304347826086, 'f1-score': 0.49629629629629635, 'support': 736}, 'accuracy': 0.5380434782608695, 'macro avg': {'precision': 0.5391183192486124, 'recall': 0.5380434782608696, 'f1-score': 0.5348482736186626, 'support': 1472}, 'weighted avg': {'precision': 0.5391183192486124, 'recall': 0.5380434782608695, 'f1-score': 0.5348482736186626, 'support': 1472}}\n",
      "\n",
      "\n",
      "Risultati di poly0.1\n",
      "{'0': {'precision': 0.5176151761517616, 'recall': 0.5190217391304348, 'f1-score': 0.5183175033921303, 'support': 736}, '1': {'precision': 0.5177111716621253, 'recall': 0.5163043478260869, 'f1-score': 0.5170068027210885, 'support': 736}, 'accuracy': 0.5176630434782609, 'macro avg': {'precision': 0.5176631739069435, 'recall': 0.5176630434782609, 'f1-score': 0.5176621530566095, 'support': 1472}, 'weighted avg': {'precision': 0.5176631739069435, 'recall': 0.5176630434782609, 'f1-score': 0.5176621530566095, 'support': 1472}}\n",
      "\n",
      "\n",
      "Risultati di poly0.01\n",
      "{'0': {'precision': 0.517910447761194, 'recall': 0.47146739130434784, 'f1-score': 0.49359886201991465, 'support': 736}, '1': {'precision': 0.5149625935162094, 'recall': 0.561141304347826, 'f1-score': 0.5370611183355006, 'support': 736}, 'accuracy': 0.5163043478260869, 'macro avg': {'precision': 0.5164365206387017, 'recall': 0.5163043478260869, 'f1-score': 0.5153299901777076, 'support': 1472}, 'weighted avg': {'precision': 0.5164365206387017, 'recall': 0.5163043478260869, 'f1-score': 0.5153299901777076, 'support': 1472}}\n",
      "\n",
      "\n",
      "Risultati di poly0.001\n",
      "{'0': {'precision': 0.5086455331412104, 'recall': 0.4796195652173913, 'f1-score': 0.49370629370629376, 'support': 736}, '1': {'precision': 0.5077120822622108, 'recall': 0.5366847826086957, 'f1-score': 0.5217965653896962, 'support': 736}, 'accuracy': 0.5081521739130435, 'macro avg': {'precision': 0.5081788077017106, 'recall': 0.5081521739130435, 'f1-score': 0.507751429547995, 'support': 1472}, 'weighted avg': {'precision': 0.5081788077017105, 'recall': 0.5081521739130435, 'f1-score': 0.507751429547995, 'support': 1472}}\n",
      "\n",
      "\n",
      "Risultati di poly0.0001\n",
      "{'0': {'precision': 0.5062630480167014, 'recall': 0.6589673913043478, 'f1-score': 0.5726092089728453, 'support': 736}, '1': {'precision': 0.5116731517509727, 'recall': 0.35733695652173914, 'f1-score': 0.4208, 'support': 736}, 'accuracy': 0.5081521739130435, 'macro avg': {'precision': 0.5089680998838371, 'recall': 0.5081521739130435, 'f1-score': 0.4967046044864226, 'support': 1472}, 'weighted avg': {'precision': 0.5089680998838371, 'recall': 0.5081521739130435, 'f1-score': 0.4967046044864226, 'support': 1472}}\n",
      "\n",
      "\n"
     ]
    }
   ],
   "source": [
    "for test in tests:\n",
    "    y_pred = results[test].tolist()\n",
    "    print(\"Risultati di\", test)\n",
    "    # report\n",
    "    print(classification_report(y_true, y_pred, output_dict=True))\n",
    "    print('\\n')"
   ]
  },
  {
   "cell_type": "code",
   "execution_count": null,
   "id": "0fea20e8",
   "metadata": {},
   "outputs": [],
   "source": []
  },
  {
   "cell_type": "markdown",
   "id": "31165c33",
   "metadata": {},
   "source": [
    "# SVM vecchi test: newsES, kernel 'poly' (SVC)"
   ]
  },
  {
   "cell_type": "code",
   "execution_count": 68,
   "id": "0463430d",
   "metadata": {},
   "outputs": [],
   "source": [
    "filepath = r'C:\\Users\\betti\\Notebooks\\Tesi\\baseline\\svm newses adminit 1000 1\\baseline-adminit.csv'\n",
    "with open(filepath, 'r', encoding='utf-8') as file:\n",
    "    results = pd.read_csv(file)"
   ]
  },
  {
   "cell_type": "code",
   "execution_count": 69,
   "id": "ceeb5ac5",
   "metadata": {
    "scrolled": true
   },
   "outputs": [
    {
     "data": {
      "text/html": [
       "<div>\n",
       "<style scoped>\n",
       "    .dataframe tbody tr th:only-of-type {\n",
       "        vertical-align: middle;\n",
       "    }\n",
       "\n",
       "    .dataframe tbody tr th {\n",
       "        vertical-align: top;\n",
       "    }\n",
       "\n",
       "    .dataframe thead th {\n",
       "        text-align: right;\n",
       "    }\n",
       "</style>\n",
       "<table border=\"1\" class=\"dataframe\">\n",
       "  <thead>\n",
       "    <tr style=\"text-align: right;\">\n",
       "      <th></th>\n",
       "      <th>filename</th>\n",
       "      <th>slug</th>\n",
       "      <th>grade_level</th>\n",
       "      <th>Original_Index</th>\n",
       "      <th>poly1000</th>\n",
       "      <th>poly1</th>\n",
       "    </tr>\n",
       "  </thead>\n",
       "  <tbody>\n",
       "    <tr>\n",
       "      <th>0</th>\n",
       "      <td>572operation-comp.txt</td>\n",
       "      <td>572operation</td>\n",
       "      <td>1</td>\n",
       "      <td>735</td>\n",
       "      <td>0</td>\n",
       "      <td>0</td>\n",
       "    </tr>\n",
       "    <tr>\n",
       "      <th>1</th>\n",
       "      <td>76rewriting-comp.txt</td>\n",
       "      <td>76rewriting</td>\n",
       "      <td>1</td>\n",
       "      <td>734</td>\n",
       "      <td>0</td>\n",
       "      <td>0</td>\n",
       "    </tr>\n",
       "    <tr>\n",
       "      <th>2</th>\n",
       "      <td>38rewriting-comp.txt</td>\n",
       "      <td>38rewriting</td>\n",
       "      <td>1</td>\n",
       "      <td>733</td>\n",
       "      <td>0</td>\n",
       "      <td>0</td>\n",
       "    </tr>\n",
       "    <tr>\n",
       "      <th>3</th>\n",
       "      <td>496operation-comp.txt</td>\n",
       "      <td>496operation</td>\n",
       "      <td>1</td>\n",
       "      <td>732</td>\n",
       "      <td>0</td>\n",
       "      <td>1</td>\n",
       "    </tr>\n",
       "    <tr>\n",
       "      <th>4</th>\n",
       "      <td>342operation-comp.txt</td>\n",
       "      <td>342operation</td>\n",
       "      <td>1</td>\n",
       "      <td>731</td>\n",
       "      <td>0</td>\n",
       "      <td>1</td>\n",
       "    </tr>\n",
       "  </tbody>\n",
       "</table>\n",
       "</div>"
      ],
      "text/plain": [
       "                filename          slug  grade_level  Original_Index  poly1000  \\\n",
       "0  572operation-comp.txt  572operation            1             735         0   \n",
       "1   76rewriting-comp.txt   76rewriting            1             734         0   \n",
       "2   38rewriting-comp.txt   38rewriting            1             733         0   \n",
       "3  496operation-comp.txt  496operation            1             732         0   \n",
       "4  342operation-comp.txt  342operation            1             731         0   \n",
       "\n",
       "   poly1  \n",
       "0      0  \n",
       "1      0  \n",
       "2      0  \n",
       "3      1  \n",
       "4      1  "
      ]
     },
     "execution_count": 69,
     "metadata": {},
     "output_type": "execute_result"
    }
   ],
   "source": [
    "results.head()"
   ]
  },
  {
   "cell_type": "code",
   "execution_count": 71,
   "id": "9b4a7846",
   "metadata": {},
   "outputs": [],
   "source": [
    "filepath = r'C:\\Users\\betti\\Notebooks\\Tesi\\baseline\\svm newses adminit test 2\\baseline-adminit.csv'\n",
    "with open(filepath, 'r', encoding='utf-8') as file:\n",
    "    results2 = pd.read_csv(file)"
   ]
  },
  {
   "cell_type": "code",
   "execution_count": 72,
   "id": "c128ba2d",
   "metadata": {},
   "outputs": [
    {
     "data": {
      "text/html": [
       "<div>\n",
       "<style scoped>\n",
       "    .dataframe tbody tr th:only-of-type {\n",
       "        vertical-align: middle;\n",
       "    }\n",
       "\n",
       "    .dataframe tbody tr th {\n",
       "        vertical-align: top;\n",
       "    }\n",
       "\n",
       "    .dataframe thead th {\n",
       "        text-align: right;\n",
       "    }\n",
       "</style>\n",
       "<table border=\"1\" class=\"dataframe\">\n",
       "  <thead>\n",
       "    <tr style=\"text-align: right;\">\n",
       "      <th></th>\n",
       "      <th>filename</th>\n",
       "      <th>slug</th>\n",
       "      <th>grade_level</th>\n",
       "      <th>Original_Index</th>\n",
       "      <th>poly100</th>\n",
       "      <th>poly0.1</th>\n",
       "      <th>poly0.01</th>\n",
       "    </tr>\n",
       "  </thead>\n",
       "  <tbody>\n",
       "    <tr>\n",
       "      <th>0</th>\n",
       "      <td>572operation-comp.txt</td>\n",
       "      <td>572operation</td>\n",
       "      <td>1</td>\n",
       "      <td>735</td>\n",
       "      <td>0</td>\n",
       "      <td>0</td>\n",
       "      <td>0</td>\n",
       "    </tr>\n",
       "    <tr>\n",
       "      <th>1</th>\n",
       "      <td>76rewriting-comp.txt</td>\n",
       "      <td>76rewriting</td>\n",
       "      <td>1</td>\n",
       "      <td>734</td>\n",
       "      <td>0</td>\n",
       "      <td>1</td>\n",
       "      <td>1</td>\n",
       "    </tr>\n",
       "    <tr>\n",
       "      <th>2</th>\n",
       "      <td>38rewriting-comp.txt</td>\n",
       "      <td>38rewriting</td>\n",
       "      <td>1</td>\n",
       "      <td>733</td>\n",
       "      <td>0</td>\n",
       "      <td>1</td>\n",
       "      <td>1</td>\n",
       "    </tr>\n",
       "    <tr>\n",
       "      <th>3</th>\n",
       "      <td>496operation-comp.txt</td>\n",
       "      <td>496operation</td>\n",
       "      <td>1</td>\n",
       "      <td>732</td>\n",
       "      <td>0</td>\n",
       "      <td>1</td>\n",
       "      <td>1</td>\n",
       "    </tr>\n",
       "    <tr>\n",
       "      <th>4</th>\n",
       "      <td>342operation-comp.txt</td>\n",
       "      <td>342operation</td>\n",
       "      <td>1</td>\n",
       "      <td>731</td>\n",
       "      <td>1</td>\n",
       "      <td>1</td>\n",
       "      <td>1</td>\n",
       "    </tr>\n",
       "  </tbody>\n",
       "</table>\n",
       "</div>"
      ],
      "text/plain": [
       "                filename          slug  grade_level  Original_Index  poly100  \\\n",
       "0  572operation-comp.txt  572operation            1             735        0   \n",
       "1   76rewriting-comp.txt   76rewriting            1             734        0   \n",
       "2   38rewriting-comp.txt   38rewriting            1             733        0   \n",
       "3  496operation-comp.txt  496operation            1             732        0   \n",
       "4  342operation-comp.txt  342operation            1             731        1   \n",
       "\n",
       "   poly0.1  poly0.01  \n",
       "0        0         0  \n",
       "1        1         1  \n",
       "2        1         1  \n",
       "3        1         1  \n",
       "4        1         1  "
      ]
     },
     "execution_count": 72,
     "metadata": {},
     "output_type": "execute_result"
    }
   ],
   "source": [
    "results2.head()"
   ]
  },
  {
   "cell_type": "code",
   "execution_count": 73,
   "id": "59282330",
   "metadata": {},
   "outputs": [],
   "source": [
    "results['poly100'] = results2['poly100']\n",
    "results['poly0.1'] = results2['poly0.1']\n",
    "results['poly0.01'] = results2['poly0.01']"
   ]
  },
  {
   "cell_type": "code",
   "execution_count": 74,
   "id": "5df0a21e",
   "metadata": {},
   "outputs": [
    {
     "data": {
      "text/html": [
       "<div>\n",
       "<style scoped>\n",
       "    .dataframe tbody tr th:only-of-type {\n",
       "        vertical-align: middle;\n",
       "    }\n",
       "\n",
       "    .dataframe tbody tr th {\n",
       "        vertical-align: top;\n",
       "    }\n",
       "\n",
       "    .dataframe thead th {\n",
       "        text-align: right;\n",
       "    }\n",
       "</style>\n",
       "<table border=\"1\" class=\"dataframe\">\n",
       "  <thead>\n",
       "    <tr style=\"text-align: right;\">\n",
       "      <th></th>\n",
       "      <th>filename</th>\n",
       "      <th>slug</th>\n",
       "      <th>grade_level</th>\n",
       "      <th>Original_Index</th>\n",
       "      <th>poly1000</th>\n",
       "      <th>poly1</th>\n",
       "      <th>poly100</th>\n",
       "      <th>poly0.1</th>\n",
       "      <th>poly0.01</th>\n",
       "    </tr>\n",
       "  </thead>\n",
       "  <tbody>\n",
       "    <tr>\n",
       "      <th>0</th>\n",
       "      <td>572operation-comp.txt</td>\n",
       "      <td>572operation</td>\n",
       "      <td>1</td>\n",
       "      <td>735</td>\n",
       "      <td>0</td>\n",
       "      <td>0</td>\n",
       "      <td>0</td>\n",
       "      <td>0</td>\n",
       "      <td>0</td>\n",
       "    </tr>\n",
       "    <tr>\n",
       "      <th>1</th>\n",
       "      <td>76rewriting-comp.txt</td>\n",
       "      <td>76rewriting</td>\n",
       "      <td>1</td>\n",
       "      <td>734</td>\n",
       "      <td>0</td>\n",
       "      <td>0</td>\n",
       "      <td>0</td>\n",
       "      <td>1</td>\n",
       "      <td>1</td>\n",
       "    </tr>\n",
       "    <tr>\n",
       "      <th>2</th>\n",
       "      <td>38rewriting-comp.txt</td>\n",
       "      <td>38rewriting</td>\n",
       "      <td>1</td>\n",
       "      <td>733</td>\n",
       "      <td>0</td>\n",
       "      <td>0</td>\n",
       "      <td>0</td>\n",
       "      <td>1</td>\n",
       "      <td>1</td>\n",
       "    </tr>\n",
       "    <tr>\n",
       "      <th>3</th>\n",
       "      <td>496operation-comp.txt</td>\n",
       "      <td>496operation</td>\n",
       "      <td>1</td>\n",
       "      <td>732</td>\n",
       "      <td>0</td>\n",
       "      <td>1</td>\n",
       "      <td>0</td>\n",
       "      <td>1</td>\n",
       "      <td>1</td>\n",
       "    </tr>\n",
       "    <tr>\n",
       "      <th>4</th>\n",
       "      <td>342operation-comp.txt</td>\n",
       "      <td>342operation</td>\n",
       "      <td>1</td>\n",
       "      <td>731</td>\n",
       "      <td>0</td>\n",
       "      <td>1</td>\n",
       "      <td>1</td>\n",
       "      <td>1</td>\n",
       "      <td>1</td>\n",
       "    </tr>\n",
       "  </tbody>\n",
       "</table>\n",
       "</div>"
      ],
      "text/plain": [
       "                filename          slug  grade_level  Original_Index  poly1000  \\\n",
       "0  572operation-comp.txt  572operation            1             735         0   \n",
       "1   76rewriting-comp.txt   76rewriting            1             734         0   \n",
       "2   38rewriting-comp.txt   38rewriting            1             733         0   \n",
       "3  496operation-comp.txt  496operation            1             732         0   \n",
       "4  342operation-comp.txt  342operation            1             731         0   \n",
       "\n",
       "   poly1  poly100  poly0.1  poly0.01  \n",
       "0      0        0        0         0  \n",
       "1      0        0        1         1  \n",
       "2      0        0        1         1  \n",
       "3      1        0        1         1  \n",
       "4      1        1        1         1  "
      ]
     },
     "execution_count": 74,
     "metadata": {},
     "output_type": "execute_result"
    }
   ],
   "source": [
    "results.head()"
   ]
  },
  {
   "cell_type": "code",
   "execution_count": 75,
   "id": "4ba31506",
   "metadata": {},
   "outputs": [
    {
     "data": {
      "text/html": [
       "<div>\n",
       "<style scoped>\n",
       "    .dataframe tbody tr th:only-of-type {\n",
       "        vertical-align: middle;\n",
       "    }\n",
       "\n",
       "    .dataframe tbody tr th {\n",
       "        vertical-align: top;\n",
       "    }\n",
       "\n",
       "    .dataframe thead th {\n",
       "        text-align: right;\n",
       "    }\n",
       "</style>\n",
       "<table border=\"1\" class=\"dataframe\">\n",
       "  <thead>\n",
       "    <tr style=\"text-align: right;\">\n",
       "      <th></th>\n",
       "      <th>filename</th>\n",
       "      <th>slug</th>\n",
       "      <th>grade_level</th>\n",
       "      <th>Original_Index</th>\n",
       "      <th>poly10</th>\n",
       "      <th>poly0.001</th>\n",
       "      <th>poly0.0001</th>\n",
       "    </tr>\n",
       "  </thead>\n",
       "  <tbody>\n",
       "    <tr>\n",
       "      <th>0</th>\n",
       "      <td>572operation-comp.txt</td>\n",
       "      <td>572operation</td>\n",
       "      <td>1</td>\n",
       "      <td>735</td>\n",
       "      <td>0</td>\n",
       "      <td>0</td>\n",
       "      <td>0</td>\n",
       "    </tr>\n",
       "    <tr>\n",
       "      <th>1</th>\n",
       "      <td>76rewriting-comp.txt</td>\n",
       "      <td>76rewriting</td>\n",
       "      <td>1</td>\n",
       "      <td>734</td>\n",
       "      <td>0</td>\n",
       "      <td>1</td>\n",
       "      <td>1</td>\n",
       "    </tr>\n",
       "    <tr>\n",
       "      <th>2</th>\n",
       "      <td>38rewriting-comp.txt</td>\n",
       "      <td>38rewriting</td>\n",
       "      <td>1</td>\n",
       "      <td>733</td>\n",
       "      <td>0</td>\n",
       "      <td>1</td>\n",
       "      <td>1</td>\n",
       "    </tr>\n",
       "    <tr>\n",
       "      <th>3</th>\n",
       "      <td>496operation-comp.txt</td>\n",
       "      <td>496operation</td>\n",
       "      <td>1</td>\n",
       "      <td>732</td>\n",
       "      <td>1</td>\n",
       "      <td>1</td>\n",
       "      <td>1</td>\n",
       "    </tr>\n",
       "    <tr>\n",
       "      <th>4</th>\n",
       "      <td>342operation-comp.txt</td>\n",
       "      <td>342operation</td>\n",
       "      <td>1</td>\n",
       "      <td>731</td>\n",
       "      <td>1</td>\n",
       "      <td>1</td>\n",
       "      <td>1</td>\n",
       "    </tr>\n",
       "  </tbody>\n",
       "</table>\n",
       "</div>"
      ],
      "text/plain": [
       "                filename          slug  grade_level  Original_Index  poly10  \\\n",
       "0  572operation-comp.txt  572operation            1             735       0   \n",
       "1   76rewriting-comp.txt   76rewriting            1             734       0   \n",
       "2   38rewriting-comp.txt   38rewriting            1             733       0   \n",
       "3  496operation-comp.txt  496operation            1             732       1   \n",
       "4  342operation-comp.txt  342operation            1             731       1   \n",
       "\n",
       "   poly0.001  poly0.0001  \n",
       "0          0           0  \n",
       "1          1           1  \n",
       "2          1           1  \n",
       "3          1           1  \n",
       "4          1           1  "
      ]
     },
     "execution_count": 75,
     "metadata": {},
     "output_type": "execute_result"
    }
   ],
   "source": [
    "filepath = r'C:\\Users\\betti\\Notebooks\\Tesi\\baseline\\svm newses adminit test 3\\baseline-adminit.csv'\n",
    "with open(filepath, 'r', encoding='utf-8') as file:\n",
    "    results3 = pd.read_csv(file)\n",
    "results3.head()"
   ]
  },
  {
   "cell_type": "code",
   "execution_count": 76,
   "id": "bd017ff8",
   "metadata": {},
   "outputs": [],
   "source": [
    "results['poly10'] = results3['poly10']\n",
    "results['poly0.001'] = results3['poly0.001']\n",
    "results['poly0.0001'] = results3['poly0.0001']"
   ]
  },
  {
   "cell_type": "code",
   "execution_count": 77,
   "id": "537e47a2",
   "metadata": {},
   "outputs": [
    {
     "data": {
      "text/html": [
       "<div>\n",
       "<style scoped>\n",
       "    .dataframe tbody tr th:only-of-type {\n",
       "        vertical-align: middle;\n",
       "    }\n",
       "\n",
       "    .dataframe tbody tr th {\n",
       "        vertical-align: top;\n",
       "    }\n",
       "\n",
       "    .dataframe thead th {\n",
       "        text-align: right;\n",
       "    }\n",
       "</style>\n",
       "<table border=\"1\" class=\"dataframe\">\n",
       "  <thead>\n",
       "    <tr style=\"text-align: right;\">\n",
       "      <th></th>\n",
       "      <th>filename</th>\n",
       "      <th>slug</th>\n",
       "      <th>grade_level</th>\n",
       "      <th>Original_Index</th>\n",
       "      <th>poly1000</th>\n",
       "      <th>poly1</th>\n",
       "      <th>poly100</th>\n",
       "      <th>poly0.1</th>\n",
       "      <th>poly0.01</th>\n",
       "      <th>poly10</th>\n",
       "      <th>poly0.001</th>\n",
       "      <th>poly0.0001</th>\n",
       "    </tr>\n",
       "  </thead>\n",
       "  <tbody>\n",
       "    <tr>\n",
       "      <th>0</th>\n",
       "      <td>572operation-comp.txt</td>\n",
       "      <td>572operation</td>\n",
       "      <td>1</td>\n",
       "      <td>735</td>\n",
       "      <td>0</td>\n",
       "      <td>0</td>\n",
       "      <td>0</td>\n",
       "      <td>0</td>\n",
       "      <td>0</td>\n",
       "      <td>0</td>\n",
       "      <td>0</td>\n",
       "      <td>0</td>\n",
       "    </tr>\n",
       "    <tr>\n",
       "      <th>1</th>\n",
       "      <td>76rewriting-comp.txt</td>\n",
       "      <td>76rewriting</td>\n",
       "      <td>1</td>\n",
       "      <td>734</td>\n",
       "      <td>0</td>\n",
       "      <td>0</td>\n",
       "      <td>0</td>\n",
       "      <td>1</td>\n",
       "      <td>1</td>\n",
       "      <td>0</td>\n",
       "      <td>1</td>\n",
       "      <td>1</td>\n",
       "    </tr>\n",
       "    <tr>\n",
       "      <th>2</th>\n",
       "      <td>38rewriting-comp.txt</td>\n",
       "      <td>38rewriting</td>\n",
       "      <td>1</td>\n",
       "      <td>733</td>\n",
       "      <td>0</td>\n",
       "      <td>0</td>\n",
       "      <td>0</td>\n",
       "      <td>1</td>\n",
       "      <td>1</td>\n",
       "      <td>0</td>\n",
       "      <td>1</td>\n",
       "      <td>1</td>\n",
       "    </tr>\n",
       "    <tr>\n",
       "      <th>3</th>\n",
       "      <td>496operation-comp.txt</td>\n",
       "      <td>496operation</td>\n",
       "      <td>1</td>\n",
       "      <td>732</td>\n",
       "      <td>0</td>\n",
       "      <td>1</td>\n",
       "      <td>0</td>\n",
       "      <td>1</td>\n",
       "      <td>1</td>\n",
       "      <td>1</td>\n",
       "      <td>1</td>\n",
       "      <td>1</td>\n",
       "    </tr>\n",
       "    <tr>\n",
       "      <th>4</th>\n",
       "      <td>342operation-comp.txt</td>\n",
       "      <td>342operation</td>\n",
       "      <td>1</td>\n",
       "      <td>731</td>\n",
       "      <td>0</td>\n",
       "      <td>1</td>\n",
       "      <td>1</td>\n",
       "      <td>1</td>\n",
       "      <td>1</td>\n",
       "      <td>1</td>\n",
       "      <td>1</td>\n",
       "      <td>1</td>\n",
       "    </tr>\n",
       "  </tbody>\n",
       "</table>\n",
       "</div>"
      ],
      "text/plain": [
       "                filename          slug  grade_level  Original_Index  poly1000  \\\n",
       "0  572operation-comp.txt  572operation            1             735         0   \n",
       "1   76rewriting-comp.txt   76rewriting            1             734         0   \n",
       "2   38rewriting-comp.txt   38rewriting            1             733         0   \n",
       "3  496operation-comp.txt  496operation            1             732         0   \n",
       "4  342operation-comp.txt  342operation            1             731         0   \n",
       "\n",
       "   poly1  poly100  poly0.1  poly0.01  poly10  poly0.001  poly0.0001  \n",
       "0      0        0        0         0       0          0           0  \n",
       "1      0        0        1         1       0          1           1  \n",
       "2      0        0        1         1       0          1           1  \n",
       "3      1        0        1         1       1          1           1  \n",
       "4      1        1        1         1       1          1           1  "
      ]
     },
     "execution_count": 77,
     "metadata": {},
     "output_type": "execute_result"
    }
   ],
   "source": [
    "results.head()"
   ]
  },
  {
   "cell_type": "code",
   "execution_count": 78,
   "id": "20c17afd",
   "metadata": {},
   "outputs": [
    {
     "data": {
      "text/plain": [
       "Index(['filename', 'slug', 'grade_level', 'Original_Index', 'poly1000',\n",
       "       'poly1', 'poly100', 'poly0.1', 'poly0.01', 'poly10', 'poly0.001',\n",
       "       'poly0.0001'],\n",
       "      dtype='object')"
      ]
     },
     "execution_count": 78,
     "metadata": {},
     "output_type": "execute_result"
    }
   ],
   "source": [
    "results.columns"
   ]
  },
  {
   "cell_type": "code",
   "execution_count": 79,
   "id": "38059ceb",
   "metadata": {},
   "outputs": [],
   "source": [
    "y_true = results['grade_level'].tolist()"
   ]
  },
  {
   "cell_type": "code",
   "execution_count": 80,
   "id": "b3e8e7dc",
   "metadata": {},
   "outputs": [],
   "source": [
    "tests = ['poly1000','poly100', 'poly10', 'poly1', 'poly0.1', 'poly0.01', 'poly0.001', 'poly0.0001']"
   ]
  },
  {
   "cell_type": "code",
   "execution_count": 81,
   "id": "483c1674",
   "metadata": {
    "scrolled": false
   },
   "outputs": [
    {
     "name": "stdout",
     "output_type": "stream",
     "text": [
      "Risultati di poly1000\n",
      "              precision    recall  f1-score   support\n",
      "\n",
      "           0       0.51      0.86      0.64       736\n",
      "           1       0.55      0.17      0.26       736\n",
      "\n",
      "    accuracy                           0.51      1472\n",
      "   macro avg       0.53      0.51      0.45      1472\n",
      "weighted avg       0.53      0.51      0.45      1472\n",
      "\n"
     ]
    },
    {
     "data": {
      "image/png": "[encoded data removed]",
      "text/plain": [
       "<Figure size 432x288 with 2 Axes>"
      ]
     },
     "metadata": {
      "needs_background": "light"
     },
     "output_type": "display_data"
    },
    {
     "name": "stdout",
     "output_type": "stream",
     "text": [
      "Risultati di poly100\n",
      "              precision    recall  f1-score   support\n",
      "\n",
      "           0       0.51      0.52      0.52       736\n",
      "           1       0.52      0.51      0.51       736\n",
      "\n",
      "    accuracy                           0.51      1472\n",
      "   macro avg       0.51      0.51      0.51      1472\n",
      "weighted avg       0.51      0.51      0.51      1472\n",
      "\n"
     ]
    },
    {
     "data": {
      "image/png": "[encoded data removed]",
      "text/plain": [
       "<Figure size 432x288 with 2 Axes>"
      ]
     },
     "metadata": {
      "needs_background": "light"
     },
     "output_type": "display_data"
    },
    {
     "name": "stdout",
     "output_type": "stream",
     "text": [
      "Risultati di poly10\n",
      "              precision    recall  f1-score   support\n",
      "\n",
      "           0       0.52      0.34      0.41       736\n",
      "           1       0.51      0.68      0.58       736\n",
      "\n",
      "    accuracy                           0.51      1472\n",
      "   macro avg       0.51      0.51      0.50      1472\n",
      "weighted avg       0.51      0.51      0.50      1472\n",
      "\n"
     ]
    },
    {
     "data": {
      "image/png": "[encoded data removed]",
      "text/plain": [
       "<Figure size 432x288 with 2 Axes>"
      ]
     },
     "metadata": {
      "needs_background": "light"
     },
     "output_type": "display_data"
    },
    {
     "name": "stdout",
     "output_type": "stream",
     "text": [
      "Risultati di poly1\n",
      "              precision    recall  f1-score   support\n",
      "\n",
      "           0       0.50      0.38      0.44       736\n",
      "           1       0.50      0.62      0.56       736\n",
      "\n",
      "    accuracy                           0.50      1472\n",
      "   macro avg       0.50      0.50      0.50      1472\n",
      "weighted avg       0.50      0.50      0.50      1472\n",
      "\n"
     ]
    },
    {
     "data": {
      "image/png": "[encoded data removed]",
      "text/plain": [
       "<Figure size 432x288 with 2 Axes>"
      ]
     },
     "metadata": {
      "needs_background": "light"
     },
     "output_type": "display_data"
    },
    {
     "name": "stdout",
     "output_type": "stream",
     "text": [
      "Risultati di poly0.1\n",
      "              precision    recall  f1-score   support\n",
      "\n",
      "           0       0.51      0.34      0.41       736\n",
      "           1       0.51      0.67      0.58       736\n",
      "\n",
      "    accuracy                           0.51      1472\n",
      "   macro avg       0.51      0.51      0.49      1472\n",
      "weighted avg       0.51      0.51      0.49      1472\n",
      "\n"
     ]
    },
    {
     "data": {
      "image/png": "[encoded data removed]",
      "text/plain": [
       "<Figure size 432x288 with 2 Axes>"
      ]
     },
     "metadata": {
      "needs_background": "light"
     },
     "output_type": "display_data"
    },
    {
     "name": "stdout",
     "output_type": "stream",
     "text": [
      "Risultati di poly0.01\n",
      "              precision    recall  f1-score   support\n",
      "\n",
      "           0       0.52      0.34      0.41       736\n",
      "           1       0.51      0.68      0.58       736\n",
      "\n",
      "    accuracy                           0.51      1472\n",
      "   macro avg       0.51      0.51      0.50      1472\n",
      "weighted avg       0.51      0.51      0.50      1472\n",
      "\n"
     ]
    },
    {
     "data": {
      "image/png": "[encoded data removed]",
      "text/plain": [
       "<Figure size 432x288 with 2 Axes>"
      ]
     },
     "metadata": {
      "needs_background": "light"
     },
     "output_type": "display_data"
    },
    {
     "name": "stdout",
     "output_type": "stream",
     "text": [
      "Risultati di poly0.001\n",
      "              precision    recall  f1-score   support\n",
      "\n",
      "           0       0.51      0.34      0.41       736\n",
      "           1       0.51      0.68      0.58       736\n",
      "\n",
      "    accuracy                           0.51      1472\n",
      "   macro avg       0.51      0.51      0.50      1472\n",
      "weighted avg       0.51      0.51      0.50      1472\n",
      "\n"
     ]
    },
    {
     "data": {
      "image/png": "[encoded data removed]",
      "text/plain": [
       "<Figure size 432x288 with 2 Axes>"
      ]
     },
     "metadata": {
      "needs_background": "light"
     },
     "output_type": "display_data"
    },
    {
     "name": "stdout",
     "output_type": "stream",
     "text": [
      "Risultati di poly0.0001\n",
      "              precision    recall  f1-score   support\n",
      "\n",
      "           0       0.51      0.37      0.43       736\n",
      "           1       0.51      0.64      0.57       736\n",
      "\n",
      "    accuracy                           0.51      1472\n",
      "   macro avg       0.51      0.51      0.50      1472\n",
      "weighted avg       0.51      0.51      0.50      1472\n",
      "\n"
     ]
    },
    {
     "data": {
      "image/png": "[encoded data removed]",
      "text/plain": [
       "<Figure size 432x288 with 2 Axes>"
      ]
     },
     "metadata": {
      "needs_background": "light"
     },
     "output_type": "display_data"
    }
   ],
   "source": [
    "for test in tests:\n",
    "    y_pred = results[test].tolist()\n",
    "    print(\"Risultati di\", test)\n",
    "    # report\n",
    "    print(classification_report(y_true, y_pred))\n",
    "    # confusion matrix\n",
    "    matrix = confusion_matrix(y_true, y_pred)\n",
    "    disp = ConfusionMatrixDisplay(confusion_matrix=matrix)\n",
    "    disp.plot()\n",
    "    plt.show()"
   ]
  },
  {
   "cell_type": "code",
   "execution_count": 82,
   "id": "63d979eb",
   "metadata": {},
   "outputs": [
    {
     "name": "stdout",
     "output_type": "stream",
     "text": [
      "Risultati di poly1000\n",
      "{'0': {'precision': 0.5084745762711864, 'recall': 0.8559782608695652, 'f1-score': 0.6379746835443038, 'support': 736}, '1': {'precision': 0.5450643776824035, 'recall': 0.17255434782608695, 'f1-score': 0.26212590299277605, 'support': 736}, 'accuracy': 0.514266304347826, 'macro avg': {'precision': 0.526769476976795, 'recall': 0.514266304347826, 'f1-score': 0.4500502932685399, 'support': 1472}, 'weighted avg': {'precision': 0.5267694769767949, 'recall': 0.514266304347826, 'f1-score': 0.4500502932685399, 'support': 1472}}\n",
      "\n",
      "\n",
      "Risultati di poly100\n",
      "{'0': {'precision': 0.5147849462365591, 'recall': 0.5203804347826086, 'f1-score': 0.5175675675675674, 'support': 736}, '1': {'precision': 0.5151098901098901, 'recall': 0.5095108695652174, 'f1-score': 0.5122950819672131, 'support': 736}, 'accuracy': 0.5149456521739131, 'macro avg': {'precision': 0.5149474181732245, 'recall': 0.5149456521739131, 'f1-score': 0.5149313247673902, 'support': 1472}, 'weighted avg': {'precision': 0.5149474181732245, 'recall': 0.5149456521739131, 'f1-score': 0.5149313247673902, 'support': 1472}}\n",
      "\n",
      "\n",
      "Risultati di poly10\n",
      "{'0': {'precision': 0.5173824130879345, 'recall': 0.34375, 'f1-score': 0.4130612244897959, 'support': 736}, '1': {'precision': 0.508646998982706, 'recall': 0.6793478260869565, 'f1-score': 0.5817335660267597, 'support': 736}, 'accuracy': 0.5115489130434783, 'macro avg': {'precision': 0.5130147060353203, 'recall': 0.5115489130434783, 'f1-score': 0.4973973952582778, 'support': 1472}, 'weighted avg': {'precision': 0.5130147060353203, 'recall': 0.5115489130434783, 'f1-score': 0.4973973952582778, 'support': 1472}}\n",
      "\n",
      "\n",
      "Risultati di poly1\n",
      "{'0': {'precision': 0.5044563279857398, 'recall': 0.3845108695652174, 'f1-score': 0.4363916730917502, 'support': 736}, '1': {'precision': 0.5027442371020856, 'recall': 0.6222826086956522, 'f1-score': 0.5561627200971464, 'support': 736}, 'accuracy': 0.5033967391304348, 'macro avg': {'precision': 0.5036002825439128, 'recall': 0.5033967391304348, 'f1-score': 0.4962771965944483, 'support': 1472}, 'weighted avg': {'precision': 0.5036002825439126, 'recall': 0.5033967391304348, 'f1-score': 0.4962771965944483, 'support': 1472}}\n",
      "\n",
      "\n",
      "Risultati di poly0.1\n",
      "{'0': {'precision': 0.5121951219512195, 'recall': 0.3423913043478261, 'f1-score': 0.41042345276872966, 'support': 736}, '1': {'precision': 0.5061224489795918, 'recall': 0.6739130434782609, 'f1-score': 0.578088578088578, 'support': 736}, 'accuracy': 0.5081521739130435, 'macro avg': {'precision': 0.5091587854654056, 'recall': 0.5081521739130435, 'f1-score': 0.4942560154286538, 'support': 1472}, 'weighted avg': {'precision': 0.5091587854654057, 'recall': 0.5081521739130435, 'f1-score': 0.49425601542865377, 'support': 1472}}\n",
      "\n",
      "\n",
      "Risultati di poly0.01\n",
      "{'0': {'precision': 0.5186721991701245, 'recall': 0.33967391304347827, 'f1-score': 0.4105090311986864, 'support': 736}, '1': {'precision': 0.509090909090909, 'recall': 0.6847826086956522, 'f1-score': 0.5840092699884125, 'support': 736}, 'accuracy': 0.5122282608695652, 'macro avg': {'precision': 0.5138815541305168, 'recall': 0.5122282608695652, 'f1-score': 0.49725915059354947, 'support': 1472}, 'weighted avg': {'precision': 0.5138815541305167, 'recall': 0.5122282608695652, 'f1-score': 0.4972591505935494, 'support': 1472}}\n",
      "\n",
      "\n",
      "Risultati di poly0.001\n",
      "{'0': {'precision': 0.5142276422764228, 'recall': 0.34375, 'f1-score': 0.41205211726384366, 'support': 736}, '1': {'precision': 0.5071428571428571, 'recall': 0.6752717391304348, 'f1-score': 0.5792540792540792, 'support': 736}, 'accuracy': 0.5095108695652174, 'macro avg': {'precision': 0.5106852497096399, 'recall': 0.5095108695652174, 'f1-score': 0.4956530982589614, 'support': 1472}, 'weighted avg': {'precision': 0.51068524970964, 'recall': 0.5095108695652174, 'f1-score': 0.4956530982589614, 'support': 1472}}\n",
      "\n",
      "\n",
      "Risultati di poly0.0001\n",
      "{'0': {'precision': 0.5102040816326531, 'recall': 0.3736413043478261, 'f1-score': 0.4313725490196079, 'support': 736}, '1': {'precision': 0.5058949624866024, 'recall': 0.6413043478260869, 'f1-score': 0.5656081485919712, 'support': 736}, 'accuracy': 0.5074728260869565, 'macro avg': {'precision': 0.5080495220596277, 'recall': 0.5074728260869565, 'f1-score': 0.4984903488057896, 'support': 1472}, 'weighted avg': {'precision': 0.5080495220596276, 'recall': 0.5074728260869565, 'f1-score': 0.4984903488057895, 'support': 1472}}\n",
      "\n",
      "\n"
     ]
    }
   ],
   "source": [
    "for test in tests:\n",
    "    y_pred = results[test].tolist()\n",
    "    print(\"Risultati di\", test)\n",
    "    # report\n",
    "    print(classification_report(y_true, y_pred, output_dict=True))\n",
    "    print('\\n')"
   ]
  },
  {
   "cell_type": "code",
   "execution_count": null,
   "id": "6ab55fe9",
   "metadata": {},
   "outputs": [],
   "source": []
  }
 ],
 "metadata": {
  "kernelspec": {
   "display_name": "Python 3",
   "language": "python",
   "name": "python3"
  },
  "language_info": {
   "codemirror_mode": {
    "name": "ipython",
    "version": 3
   },
   "file_extension": ".py",
   "mimetype": "text/x-python",
   "name": "python",
   "nbconvert_exporter": "python",
   "pygments_lexer": "ipython3",
   "version": "3.8.8"
  }
 },
 "nbformat": 4,
 "nbformat_minor": 5
}
