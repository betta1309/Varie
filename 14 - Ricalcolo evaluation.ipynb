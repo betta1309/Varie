{
 "cells": [
  {
   "cell_type": "code",
   "execution_count": 18,
   "id": "f81d187d",
   "metadata": {},
   "outputs": [],
   "source": [
    "from sklearn.metrics import classification_report, confusion_matrix, ConfusionMatrixDisplay\n",
    "import pandas as pd\n",
    "import matplotlib.pyplot as plt"
   ]
  },
  {
   "cell_type": "code",
   "execution_count": 2,
   "id": "d1171194",
   "metadata": {},
   "outputs": [],
   "source": [
    "filepath = r'D:\\Documenti\\Uni\\Tesi\\script\\adminit_LinearSVC.csv'"
   ]
  },
  {
   "cell_type": "code",
   "execution_count": 5,
   "id": "b5432dde",
   "metadata": {},
   "outputs": [],
   "source": [
    "with open(filepath, 'r', encoding='utf-8') as file:\n",
    "    results = pd.read_csv(file)"
   ]
  },
  {
   "cell_type": "code",
   "execution_count": 7,
   "id": "5d9939f0",
   "metadata": {},
   "outputs": [
    {
     "data": {
      "text/html": [
       "<div>\n",
       "<style scoped>\n",
       "    .dataframe tbody tr th:only-of-type {\n",
       "        vertical-align: middle;\n",
       "    }\n",
       "\n",
       "    .dataframe tbody tr th {\n",
       "        vertical-align: top;\n",
       "    }\n",
       "\n",
       "    .dataframe thead th {\n",
       "        text-align: right;\n",
       "    }\n",
       "</style>\n",
       "<table border=\"1\" class=\"dataframe\">\n",
       "  <thead>\n",
       "    <tr style=\"text-align: right;\">\n",
       "      <th></th>\n",
       "      <th>filename</th>\n",
       "      <th>slug</th>\n",
       "      <th>grade_level</th>\n",
       "      <th>Original_Index</th>\n",
       "      <th>ose_full_all</th>\n",
       "      <th>ose_full_baseline</th>\n",
       "      <th>ose_full_embeddings</th>\n",
       "      <th>newses_all</th>\n",
       "      <th>newses_baseline</th>\n",
       "      <th>newses_embeddings</th>\n",
       "    </tr>\n",
       "  </thead>\n",
       "  <tbody>\n",
       "    <tr>\n",
       "      <th>0</th>\n",
       "      <td>762operation-comp.txt</td>\n",
       "      <td>762operation</td>\n",
       "      <td>1</td>\n",
       "      <td>0</td>\n",
       "      <td>1</td>\n",
       "      <td>1</td>\n",
       "      <td>1</td>\n",
       "      <td>1</td>\n",
       "      <td>1</td>\n",
       "      <td>1</td>\n",
       "    </tr>\n",
       "    <tr>\n",
       "      <th>1</th>\n",
       "      <td>0rewriting-comp.txt</td>\n",
       "      <td>0rewriting</td>\n",
       "      <td>1</td>\n",
       "      <td>1</td>\n",
       "      <td>1</td>\n",
       "      <td>1</td>\n",
       "      <td>1</td>\n",
       "      <td>1</td>\n",
       "      <td>1</td>\n",
       "      <td>1</td>\n",
       "    </tr>\n",
       "    <tr>\n",
       "      <th>2</th>\n",
       "      <td>205operation-comp.txt</td>\n",
       "      <td>205operation</td>\n",
       "      <td>1</td>\n",
       "      <td>2</td>\n",
       "      <td>1</td>\n",
       "      <td>1</td>\n",
       "      <td>1</td>\n",
       "      <td>1</td>\n",
       "      <td>1</td>\n",
       "      <td>1</td>\n",
       "    </tr>\n",
       "    <tr>\n",
       "      <th>3</th>\n",
       "      <td>435operation-comp.txt</td>\n",
       "      <td>435operation</td>\n",
       "      <td>1</td>\n",
       "      <td>3</td>\n",
       "      <td>1</td>\n",
       "      <td>1</td>\n",
       "      <td>1</td>\n",
       "      <td>1</td>\n",
       "      <td>1</td>\n",
       "      <td>1</td>\n",
       "    </tr>\n",
       "    <tr>\n",
       "      <th>4</th>\n",
       "      <td>686operation-comp.txt</td>\n",
       "      <td>686operation</td>\n",
       "      <td>1</td>\n",
       "      <td>4</td>\n",
       "      <td>1</td>\n",
       "      <td>1</td>\n",
       "      <td>1</td>\n",
       "      <td>1</td>\n",
       "      <td>1</td>\n",
       "      <td>1</td>\n",
       "    </tr>\n",
       "  </tbody>\n",
       "</table>\n",
       "</div>"
      ],
      "text/plain": [
       "                filename          slug  grade_level  Original_Index  \\\n",
       "0  762operation-comp.txt  762operation            1               0   \n",
       "1    0rewriting-comp.txt    0rewriting            1               1   \n",
       "2  205operation-comp.txt  205operation            1               2   \n",
       "3  435operation-comp.txt  435operation            1               3   \n",
       "4  686operation-comp.txt  686operation            1               4   \n",
       "\n",
       "   ose_full_all  ose_full_baseline  ose_full_embeddings  newses_all  \\\n",
       "0             1                  1                    1           1   \n",
       "1             1                  1                    1           1   \n",
       "2             1                  1                    1           1   \n",
       "3             1                  1                    1           1   \n",
       "4             1                  1                    1           1   \n",
       "\n",
       "   newses_baseline  newses_embeddings  \n",
       "0                1                  1  \n",
       "1                1                  1  \n",
       "2                1                  1  \n",
       "3                1                  1  \n",
       "4                1                  1  "
      ]
     },
     "execution_count": 7,
     "metadata": {},
     "output_type": "execute_result"
    }
   ],
   "source": [
    "results.head()"
   ]
  },
  {
   "cell_type": "code",
   "execution_count": 10,
   "id": "3ee94320",
   "metadata": {},
   "outputs": [
    {
     "data": {
      "text/plain": [
       "Index(['filename', 'slug', 'grade_level', 'Original_Index', 'ose_full_all',\n",
       "       'ose_full_baseline', 'ose_full_embeddings', 'newses_all',\n",
       "       'newses_baseline', 'newses_embeddings'],\n",
       "      dtype='object')"
      ]
     },
     "execution_count": 10,
     "metadata": {},
     "output_type": "execute_result"
    }
   ],
   "source": [
    "results.columns"
   ]
  },
  {
   "cell_type": "code",
   "execution_count": 11,
   "id": "f346c821",
   "metadata": {},
   "outputs": [],
   "source": [
    "y_true = results['grade_level'].tolist()"
   ]
  },
  {
   "cell_type": "code",
   "execution_count": 13,
   "id": "3a6a629e",
   "metadata": {},
   "outputs": [],
   "source": [
    "tests = ['ose_full_all', 'ose_full_baseline', 'ose_full_embeddings', 'newses_all', 'newses_baseline', 'newses_embeddings']"
   ]
  },
  {
   "cell_type": "code",
   "execution_count": 14,
   "id": "2c8a4808",
   "metadata": {},
   "outputs": [
    {
     "name": "stdout",
     "output_type": "stream",
     "text": [
      "Risultati di ose_full_all\n",
      "              precision    recall  f1-score   support\n",
      "\n",
      "           0       0.68      0.04      0.07       736\n",
      "           1       0.50      0.98      0.67       736\n",
      "\n",
      "    accuracy                           0.51      1472\n",
      "   macro avg       0.59      0.51      0.37      1472\n",
      "weighted avg       0.59      0.51      0.37      1472\n",
      "\n",
      "Risultati di ose_full_baseline\n",
      "              precision    recall  f1-score   support\n",
      "\n",
      "           0       0.52      0.34      0.41       736\n",
      "           1       0.51      0.68      0.58       736\n",
      "\n",
      "    accuracy                           0.51      1472\n",
      "   macro avg       0.51      0.51      0.50      1472\n",
      "weighted avg       0.51      0.51      0.50      1472\n",
      "\n",
      "Risultati di ose_full_embeddings\n",
      "              precision    recall  f1-score   support\n",
      "\n",
      "           0       0.69      0.03      0.06       736\n",
      "           1       0.50      0.99      0.67       736\n",
      "\n",
      "    accuracy                           0.51      1472\n",
      "   macro avg       0.60      0.51      0.37      1472\n",
      "weighted avg       0.60      0.51      0.37      1472\n",
      "\n",
      "Risultati di newses_all\n",
      "              precision    recall  f1-score   support\n",
      "\n",
      "           0       0.53      0.33      0.41       736\n",
      "           1       0.52      0.71      0.60       736\n",
      "\n",
      "    accuracy                           0.52      1472\n",
      "   macro avg       0.52      0.52      0.50      1472\n",
      "weighted avg       0.52      0.52      0.50      1472\n",
      "\n",
      "Risultati di newses_baseline\n",
      "              precision    recall  f1-score   support\n",
      "\n",
      "           0       0.52      0.23      0.32       736\n",
      "           1       0.51      0.79      0.62       736\n",
      "\n",
      "    accuracy                           0.51      1472\n",
      "   macro avg       0.51      0.51      0.47      1472\n",
      "weighted avg       0.51      0.51      0.47      1472\n",
      "\n",
      "Risultati di newses_embeddings\n",
      "              precision    recall  f1-score   support\n",
      "\n",
      "           0       0.55      0.33      0.41       736\n",
      "           1       0.52      0.73      0.61       736\n",
      "\n",
      "    accuracy                           0.53      1472\n",
      "   macro avg       0.53      0.53      0.51      1472\n",
      "weighted avg       0.53      0.53      0.51      1472\n",
      "\n"
     ]
    }
   ],
   "source": [
    "for test in tests:\n",
    "    y_pred = results[test].tolist()\n",
    "    print(\"Risultati di\", test)\n",
    "    print(classification_report(y_true, y_pred))"
   ]
  },
  {
   "cell_type": "code",
   "execution_count": 19,
   "id": "66ad0006",
   "metadata": {
    "scrolled": false
   },
   "outputs": [
    {
     "name": "stdout",
     "output_type": "stream",
     "text": [
      "Risultati di ose_full_all\n"
     ]
    },
    {
     "data": {
      "image/png": "[encoded data removed]",
      "text/plain": [
       "<Figure size 432x288 with 2 Axes>"
      ]
     },
     "metadata": {
      "needs_background": "light"
     },
     "output_type": "display_data"
    },
    {
     "name": "stdout",
     "output_type": "stream",
     "text": [
      "Risultati di ose_full_baseline\n"
     ]
    },
    {
     "data": {
      "image/png": "[encoded data removed]",
      "text/plain": [
       "<Figure size 432x288 with 2 Axes>"
      ]
     },
     "metadata": {
      "needs_background": "light"
     },
     "output_type": "display_data"
    },
    {
     "name": "stdout",
     "output_type": "stream",
     "text": [
      "Risultati di ose_full_embeddings\n"
     ]
    },
    {
     "data": {
      "image/png": "[encoded data removed]",
      "text/plain": [
       "<Figure size 432x288 with 2 Axes>"
      ]
     },
     "metadata": {
      "needs_background": "light"
     },
     "output_type": "display_data"
    },
    {
     "name": "stdout",
     "output_type": "stream",
     "text": [
      "Risultati di newses_all\n"
     ]
    },
    {
     "data": {
      "image/png": "[encoded data removed]",
      "text/plain": [
       "<Figure size 432x288 with 2 Axes>"
      ]
     },
     "metadata": {
      "needs_background": "light"
     },
     "output_type": "display_data"
    },
    {
     "name": "stdout",
     "output_type": "stream",
     "text": [
      "Risultati di newses_baseline\n"
     ]
    },
    {
     "data": {
      "image/png": "[encoded data removed]",
      "text/plain": [
       "<Figure size 432x288 with 2 Axes>"
      ]
     },
     "metadata": {
      "needs_background": "light"
     },
     "output_type": "display_data"
    },
    {
     "name": "stdout",
     "output_type": "stream",
     "text": [
      "Risultati di newses_embeddings\n"
     ]
    },
    {
     "data": {
      "image/png": "[encoded data removed]",
      "text/plain": [
       "<Figure size 432x288 with 2 Axes>"
      ]
     },
     "metadata": {
      "needs_background": "light"
     },
     "output_type": "display_data"
    }
   ],
   "source": [
    "for test in tests:\n",
    "    y_pred = results[test].tolist()\n",
    "    print(\"Risultati di\", test)\n",
    "    matrix = confusion_matrix(y_true, y_pred)\n",
    "    disp = ConfusionMatrixDisplay(confusion_matrix=matrix)\n",
    "    disp.plot()\n",
    "    plt.show()"
   ]
  },
  {
   "cell_type": "code",
   "execution_count": null,
   "id": "fbf19cbc",
   "metadata": {},
   "outputs": [],
   "source": []
  }
 ],
 "metadata": {
  "kernelspec": {
   "display_name": "Python 3",
   "language": "python",
   "name": "python3"
  },
  "language_info": {
   "codemirror_mode": {
    "name": "ipython",
    "version": 3
   },
   "file_extension": ".py",
   "mimetype": "text/x-python",
   "name": "python",
   "nbconvert_exporter": "python",
   "pygments_lexer": "ipython3",
   "version": "3.8.8"
  }
 },
 "nbformat": 4,
 "nbformat_minor": 5
}
